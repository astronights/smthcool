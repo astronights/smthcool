{
 "cells": [
  {
   "cell_type": "code",
   "execution_count": 2,
   "id": "c95fffda",
   "metadata": {},
   "outputs": [],
   "source": [
    "import pandas as pd\n",
    "import numpy as np"
   ]
  },
  {
   "cell_type": "code",
   "execution_count": 3,
   "id": "3c9d70b2",
   "metadata": {},
   "outputs": [],
   "source": [
    "import allel # ref - https://scikit-allel.readthedocs.io/en/stable/io.html#variant-call-format-vcf"
   ]
  },
  {
   "cell_type": "code",
   "execution_count": 4,
   "id": "4a2239b7",
   "metadata": {},
   "outputs": [],
   "source": [
    "vcf_folder = \"../dataset/\"\n",
    "vcf_file_freebayes = \"real1-freebayes.vcf.gz\"\n",
    "vcf_file_mutect = \"real1-mutect2.vcf.gz\"\n",
    "vcf_file_vardict = \"real1-vardict.vcf.gz\"\n",
    "vcf_file_varscan = \"real1-varscan.vcf.gz\""
   ]
  },
  {
   "cell_type": "code",
   "execution_count": 5,
   "id": "8c351834",
   "metadata": {},
   "outputs": [],
   "source": [
    "df_freebayes = allel.vcf_to_dataframe(vcf_folder + vcf_file_freebayes)"
   ]
  },
  {
   "cell_type": "code",
   "execution_count": 6,
   "id": "0eb431fd",
   "metadata": {},
   "outputs": [
    {
     "data": {
      "text/html": [
       "<div>\n",
       "<style scoped>\n",
       "    .dataframe tbody tr th:only-of-type {\n",
       "        vertical-align: middle;\n",
       "    }\n",
       "\n",
       "    .dataframe tbody tr th {\n",
       "        vertical-align: top;\n",
       "    }\n",
       "\n",
       "    .dataframe thead th {\n",
       "        text-align: right;\n",
       "    }\n",
       "</style>\n",
       "<table border=\"1\" class=\"dataframe\">\n",
       "  <thead>\n",
       "    <tr style=\"text-align: right;\">\n",
       "      <th></th>\n",
       "      <th>CHROM</th>\n",
       "      <th>POS</th>\n",
       "      <th>ID</th>\n",
       "      <th>REF</th>\n",
       "      <th>ALT_1</th>\n",
       "      <th>ALT_2</th>\n",
       "      <th>ALT_3</th>\n",
       "      <th>QUAL</th>\n",
       "      <th>FILTER_PASS</th>\n",
       "    </tr>\n",
       "  </thead>\n",
       "  <tbody>\n",
       "    <tr>\n",
       "      <th>0</th>\n",
       "      <td>1</td>\n",
       "      <td>10177</td>\n",
       "      <td>rs367896724</td>\n",
       "      <td>A</td>\n",
       "      <td>AC</td>\n",
       "      <td>NaN</td>\n",
       "      <td>NaN</td>\n",
       "      <td>46.599998</td>\n",
       "      <td>False</td>\n",
       "    </tr>\n",
       "    <tr>\n",
       "      <th>1</th>\n",
       "      <td>1</td>\n",
       "      <td>10583</td>\n",
       "      <td>rs58108140</td>\n",
       "      <td>G</td>\n",
       "      <td>A</td>\n",
       "      <td>NaN</td>\n",
       "      <td>NaN</td>\n",
       "      <td>271.100006</td>\n",
       "      <td>False</td>\n",
       "    </tr>\n",
       "    <tr>\n",
       "      <th>2</th>\n",
       "      <td>1</td>\n",
       "      <td>12783</td>\n",
       "      <td>rs62635284</td>\n",
       "      <td>G</td>\n",
       "      <td>A</td>\n",
       "      <td>NaN</td>\n",
       "      <td>NaN</td>\n",
       "      <td>2044.599976</td>\n",
       "      <td>False</td>\n",
       "    </tr>\n",
       "    <tr>\n",
       "      <th>3</th>\n",
       "      <td>1</td>\n",
       "      <td>13116</td>\n",
       "      <td>rs62635286</td>\n",
       "      <td>T</td>\n",
       "      <td>G</td>\n",
       "      <td>NaN</td>\n",
       "      <td>NaN</td>\n",
       "      <td>1762.699951</td>\n",
       "      <td>False</td>\n",
       "    </tr>\n",
       "    <tr>\n",
       "      <th>4</th>\n",
       "      <td>1</td>\n",
       "      <td>13118</td>\n",
       "      <td>rs62028691</td>\n",
       "      <td>A</td>\n",
       "      <td>G</td>\n",
       "      <td>NaN</td>\n",
       "      <td>NaN</td>\n",
       "      <td>1762.699951</td>\n",
       "      <td>False</td>\n",
       "    </tr>\n",
       "  </tbody>\n",
       "</table>\n",
       "</div>"
      ],
      "text/plain": [
       "  CHROM    POS           ID REF ALT_1 ALT_2 ALT_3         QUAL  FILTER_PASS\n",
       "0     1  10177  rs367896724   A    AC   NaN   NaN    46.599998        False\n",
       "1     1  10583   rs58108140   G     A   NaN   NaN   271.100006        False\n",
       "2     1  12783   rs62635284   G     A   NaN   NaN  2044.599976        False\n",
       "3     1  13116   rs62635286   T     G   NaN   NaN  1762.699951        False\n",
       "4     1  13118   rs62028691   A     G   NaN   NaN  1762.699951        False"
      ]
     },
     "execution_count": 6,
     "metadata": {},
     "output_type": "execute_result"
    }
   ],
   "source": [
    "df_freebayes.head()"
   ]
  },
  {
   "cell_type": "code",
   "execution_count": 7,
   "id": "30c95d3f",
   "metadata": {},
   "outputs": [
    {
     "data": {
      "text/html": [
       "<div>\n",
       "<style scoped>\n",
       "    .dataframe tbody tr th:only-of-type {\n",
       "        vertical-align: middle;\n",
       "    }\n",
       "\n",
       "    .dataframe tbody tr th {\n",
       "        vertical-align: top;\n",
       "    }\n",
       "\n",
       "    .dataframe thead th {\n",
       "        text-align: right;\n",
       "    }\n",
       "</style>\n",
       "<table border=\"1\" class=\"dataframe\">\n",
       "  <thead>\n",
       "    <tr style=\"text-align: right;\">\n",
       "      <th></th>\n",
       "      <th>CHROM</th>\n",
       "      <th>POS</th>\n",
       "      <th>ID</th>\n",
       "      <th>REF</th>\n",
       "      <th>ALT_1</th>\n",
       "      <th>ALT_2</th>\n",
       "      <th>ALT_3</th>\n",
       "      <th>QUAL</th>\n",
       "      <th>FILTER_PASS</th>\n",
       "    </tr>\n",
       "  </thead>\n",
       "  <tbody>\n",
       "    <tr>\n",
       "      <th>0</th>\n",
       "      <td>1</td>\n",
       "      <td>13110</td>\n",
       "      <td>rs540538026</td>\n",
       "      <td>G</td>\n",
       "      <td>A</td>\n",
       "      <td>NaN</td>\n",
       "      <td>NaN</td>\n",
       "      <td>NaN</td>\n",
       "      <td>True</td>\n",
       "    </tr>\n",
       "    <tr>\n",
       "      <th>1</th>\n",
       "      <td>1</td>\n",
       "      <td>13649</td>\n",
       "      <td>rs879707275</td>\n",
       "      <td>G</td>\n",
       "      <td>C</td>\n",
       "      <td>NaN</td>\n",
       "      <td>NaN</td>\n",
       "      <td>NaN</td>\n",
       "      <td>False</td>\n",
       "    </tr>\n",
       "    <tr>\n",
       "      <th>2</th>\n",
       "      <td>1</td>\n",
       "      <td>13813</td>\n",
       "      <td>.</td>\n",
       "      <td>T</td>\n",
       "      <td>G</td>\n",
       "      <td>NaN</td>\n",
       "      <td>NaN</td>\n",
       "      <td>NaN</td>\n",
       "      <td>False</td>\n",
       "    </tr>\n",
       "    <tr>\n",
       "      <th>3</th>\n",
       "      <td>1</td>\n",
       "      <td>13838</td>\n",
       "      <td>rs28428499</td>\n",
       "      <td>C</td>\n",
       "      <td>T</td>\n",
       "      <td>NaN</td>\n",
       "      <td>NaN</td>\n",
       "      <td>NaN</td>\n",
       "      <td>False</td>\n",
       "    </tr>\n",
       "    <tr>\n",
       "      <th>4</th>\n",
       "      <td>1</td>\n",
       "      <td>15015</td>\n",
       "      <td>.</td>\n",
       "      <td>G</td>\n",
       "      <td>C</td>\n",
       "      <td>NaN</td>\n",
       "      <td>NaN</td>\n",
       "      <td>NaN</td>\n",
       "      <td>True</td>\n",
       "    </tr>\n",
       "  </tbody>\n",
       "</table>\n",
       "</div>"
      ],
      "text/plain": [
       "  CHROM    POS           ID REF ALT_1  ALT_2  ALT_3  QUAL  FILTER_PASS\n",
       "0     1  13110  rs540538026   G     A    NaN    NaN   NaN         True\n",
       "1     1  13649  rs879707275   G     C    NaN    NaN   NaN        False\n",
       "2     1  13813            .   T     G    NaN    NaN   NaN        False\n",
       "3     1  13838   rs28428499   C     T    NaN    NaN   NaN        False\n",
       "4     1  15015            .   G     C    NaN    NaN   NaN         True"
      ]
     },
     "execution_count": 7,
     "metadata": {},
     "output_type": "execute_result"
    }
   ],
   "source": [
    "df_mutect = allel.vcf_to_dataframe(vcf_folder + vcf_file_mutect)\n",
    "df_mutect.head()"
   ]
  },
  {
   "cell_type": "code",
   "execution_count": 8,
   "id": "5c22c62a",
   "metadata": {},
   "outputs": [
    {
     "data": {
      "text/html": [
       "<div>\n",
       "<style scoped>\n",
       "    .dataframe tbody tr th:only-of-type {\n",
       "        vertical-align: middle;\n",
       "    }\n",
       "\n",
       "    .dataframe tbody tr th {\n",
       "        vertical-align: top;\n",
       "    }\n",
       "\n",
       "    .dataframe thead th {\n",
       "        text-align: right;\n",
       "    }\n",
       "</style>\n",
       "<table border=\"1\" class=\"dataframe\">\n",
       "  <thead>\n",
       "    <tr style=\"text-align: right;\">\n",
       "      <th></th>\n",
       "      <th>CHROM</th>\n",
       "      <th>POS</th>\n",
       "      <th>ID</th>\n",
       "      <th>REF</th>\n",
       "      <th>ALT_1</th>\n",
       "      <th>ALT_2</th>\n",
       "      <th>ALT_3</th>\n",
       "      <th>QUAL</th>\n",
       "      <th>FILTER_PASS</th>\n",
       "    </tr>\n",
       "  </thead>\n",
       "  <tbody>\n",
       "    <tr>\n",
       "      <th>0</th>\n",
       "      <td>1</td>\n",
       "      <td>10230</td>\n",
       "      <td>rs775928745</td>\n",
       "      <td>AC</td>\n",
       "      <td>A</td>\n",
       "      <td>NaN</td>\n",
       "      <td>NaN</td>\n",
       "      <td>106.0</td>\n",
       "      <td>False</td>\n",
       "    </tr>\n",
       "    <tr>\n",
       "      <th>1</th>\n",
       "      <td>1</td>\n",
       "      <td>10231</td>\n",
       "      <td>rs200279319</td>\n",
       "      <td>C</td>\n",
       "      <td>A</td>\n",
       "      <td>NaN</td>\n",
       "      <td>NaN</td>\n",
       "      <td>75.0</td>\n",
       "      <td>False</td>\n",
       "    </tr>\n",
       "    <tr>\n",
       "      <th>2</th>\n",
       "      <td>1</td>\n",
       "      <td>10250</td>\n",
       "      <td>.</td>\n",
       "      <td>ACCCTA</td>\n",
       "      <td>CCCT</td>\n",
       "      <td>NaN</td>\n",
       "      <td>NaN</td>\n",
       "      <td>42.0</td>\n",
       "      <td>False</td>\n",
       "    </tr>\n",
       "    <tr>\n",
       "      <th>3</th>\n",
       "      <td>1</td>\n",
       "      <td>10583</td>\n",
       "      <td>rs58108140</td>\n",
       "      <td>G</td>\n",
       "      <td>A</td>\n",
       "      <td>NaN</td>\n",
       "      <td>NaN</td>\n",
       "      <td>122.0</td>\n",
       "      <td>False</td>\n",
       "    </tr>\n",
       "    <tr>\n",
       "      <th>4</th>\n",
       "      <td>1</td>\n",
       "      <td>12783</td>\n",
       "      <td>rs62635284</td>\n",
       "      <td>G</td>\n",
       "      <td>A</td>\n",
       "      <td>NaN</td>\n",
       "      <td>NaN</td>\n",
       "      <td>190.0</td>\n",
       "      <td>False</td>\n",
       "    </tr>\n",
       "  </tbody>\n",
       "</table>\n",
       "</div>"
      ],
      "text/plain": [
       "  CHROM    POS           ID     REF ALT_1  ALT_2  ALT_3   QUAL  FILTER_PASS\n",
       "0     1  10230  rs775928745      AC     A    NaN    NaN  106.0        False\n",
       "1     1  10231  rs200279319       C     A    NaN    NaN   75.0        False\n",
       "2     1  10250            .  ACCCTA  CCCT    NaN    NaN   42.0        False\n",
       "3     1  10583   rs58108140       G     A    NaN    NaN  122.0        False\n",
       "4     1  12783   rs62635284       G     A    NaN    NaN  190.0        False"
      ]
     },
     "execution_count": 8,
     "metadata": {},
     "output_type": "execute_result"
    }
   ],
   "source": [
    "df_vardict = allel.vcf_to_dataframe(vcf_folder + vcf_file_vardict)\n",
    "df_vardict.head()"
   ]
  },
  {
   "cell_type": "code",
   "execution_count": 9,
   "id": "406a3fe3",
   "metadata": {},
   "outputs": [
    {
     "data": {
      "text/html": [
       "<div>\n",
       "<style scoped>\n",
       "    .dataframe tbody tr th:only-of-type {\n",
       "        vertical-align: middle;\n",
       "    }\n",
       "\n",
       "    .dataframe tbody tr th {\n",
       "        vertical-align: top;\n",
       "    }\n",
       "\n",
       "    .dataframe thead th {\n",
       "        text-align: right;\n",
       "    }\n",
       "</style>\n",
       "<table border=\"1\" class=\"dataframe\">\n",
       "  <thead>\n",
       "    <tr style=\"text-align: right;\">\n",
       "      <th></th>\n",
       "      <th>CHROM</th>\n",
       "      <th>POS</th>\n",
       "      <th>ID</th>\n",
       "      <th>REF</th>\n",
       "      <th>ALT_1</th>\n",
       "      <th>ALT_2</th>\n",
       "      <th>ALT_3</th>\n",
       "      <th>QUAL</th>\n",
       "      <th>FILTER_PASS</th>\n",
       "    </tr>\n",
       "  </thead>\n",
       "  <tbody>\n",
       "    <tr>\n",
       "      <th>0</th>\n",
       "      <td>1</td>\n",
       "      <td>10146</td>\n",
       "      <td>rs779258992</td>\n",
       "      <td>AC</td>\n",
       "      <td>A</td>\n",
       "      <td>NaN</td>\n",
       "      <td>NaN</td>\n",
       "      <td>0.0</td>\n",
       "      <td>False</td>\n",
       "    </tr>\n",
       "    <tr>\n",
       "      <th>1</th>\n",
       "      <td>1</td>\n",
       "      <td>10153</td>\n",
       "      <td>.</td>\n",
       "      <td>A</td>\n",
       "      <td>AC</td>\n",
       "      <td>NaN</td>\n",
       "      <td>NaN</td>\n",
       "      <td>0.0</td>\n",
       "      <td>False</td>\n",
       "    </tr>\n",
       "    <tr>\n",
       "      <th>2</th>\n",
       "      <td>1</td>\n",
       "      <td>10177</td>\n",
       "      <td>rs367896724</td>\n",
       "      <td>A</td>\n",
       "      <td>AC</td>\n",
       "      <td>NaN</td>\n",
       "      <td>NaN</td>\n",
       "      <td>0.0</td>\n",
       "      <td>False</td>\n",
       "    </tr>\n",
       "    <tr>\n",
       "      <th>3</th>\n",
       "      <td>1</td>\n",
       "      <td>10230</td>\n",
       "      <td>rs775928745</td>\n",
       "      <td>AC</td>\n",
       "      <td>A</td>\n",
       "      <td>NaN</td>\n",
       "      <td>NaN</td>\n",
       "      <td>0.0</td>\n",
       "      <td>False</td>\n",
       "    </tr>\n",
       "    <tr>\n",
       "      <th>4</th>\n",
       "      <td>1</td>\n",
       "      <td>10237</td>\n",
       "      <td>.</td>\n",
       "      <td>A</td>\n",
       "      <td>AC</td>\n",
       "      <td>NaN</td>\n",
       "      <td>NaN</td>\n",
       "      <td>0.0</td>\n",
       "      <td>False</td>\n",
       "    </tr>\n",
       "  </tbody>\n",
       "</table>\n",
       "</div>"
      ],
      "text/plain": [
       "  CHROM    POS           ID REF ALT_1  ALT_2  ALT_3  QUAL  FILTER_PASS\n",
       "0     1  10146  rs779258992  AC     A    NaN    NaN   0.0        False\n",
       "1     1  10153            .   A    AC    NaN    NaN   0.0        False\n",
       "2     1  10177  rs367896724   A    AC    NaN    NaN   0.0        False\n",
       "3     1  10230  rs775928745  AC     A    NaN    NaN   0.0        False\n",
       "4     1  10237            .   A    AC    NaN    NaN   0.0        False"
      ]
     },
     "execution_count": 9,
     "metadata": {},
     "output_type": "execute_result"
    }
   ],
   "source": [
    "df_varscan = allel.vcf_to_dataframe(vcf_folder + vcf_file_varscan)\n",
    "df_varscan.head()"
   ]
  },
  {
   "cell_type": "code",
   "execution_count": 10,
   "id": "599d6f9b",
   "metadata": {},
   "outputs": [
    {
     "name": "stdout",
     "output_type": "stream",
     "text": [
      "Real freebayes shape = (4990758, 9)\n",
      "Real Mutect shape = (112953, 9)\n",
      "Real Vardict shape = (4830315, 9)\n",
      "Real Varscan shape = (4920452, 9)\n"
     ]
    }
   ],
   "source": [
    "print(f\"Real freebayes shape = {df_freebayes.shape}\")\n",
    "print(f\"Real Mutect shape = {df_mutect.shape}\")\n",
    "print(f\"Real Vardict shape = {df_vardict.shape}\")\n",
    "print(f\"Real Varscan shape = {df_varscan.shape}\")"
   ]
  },
  {
   "cell_type": "code",
   "execution_count": 11,
   "id": "ba2983ac",
   "metadata": {},
   "outputs": [],
   "source": [
    "m1 = pd.merge(df_freebayes, df_mutect, on = [\"CHROM\", \"POS\"], how=\"outer\", suffixes = (\"_freebayes\", \"_mutect\"))"
   ]
  },
  {
   "cell_type": "code",
   "execution_count": 12,
   "id": "7951b691",
   "metadata": {},
   "outputs": [
    {
     "data": {
      "text/plain": [
       "(5097215, 16)"
      ]
     },
     "execution_count": 12,
     "metadata": {},
     "output_type": "execute_result"
    }
   ],
   "source": [
    "m1.shape"
   ]
  },
  {
   "cell_type": "code",
   "execution_count": 13,
   "id": "1da51c26",
   "metadata": {},
   "outputs": [],
   "source": [
    "m2 = pd.merge(m1, df_vardict, on = [\"CHROM\", \"POS\"], how=\"outer\")\n",
    "m2.rename(columns={\"ID\": \"ID_vardict\", \"REF\": \"REF_vardict\", \"ALT_1\": \"ALT_1_vardict\", \"ALT_2\": \"ALT_2_vardict\", \\\n",
    "                  \"ALT_3\": \"ALT_3_vardict\", \"QUAL\": \"QUAL_vardict\", \"FILTER_PASS\": \"FILTER_PASS_vardict\"}, inplace=True)"
   ]
  },
  {
   "cell_type": "code",
   "execution_count": 14,
   "id": "c7565028",
   "metadata": {},
   "outputs": [
    {
     "data": {
      "text/html": [
       "<div>\n",
       "<style scoped>\n",
       "    .dataframe tbody tr th:only-of-type {\n",
       "        vertical-align: middle;\n",
       "    }\n",
       "\n",
       "    .dataframe tbody tr th {\n",
       "        vertical-align: top;\n",
       "    }\n",
       "\n",
       "    .dataframe thead th {\n",
       "        text-align: right;\n",
       "    }\n",
       "</style>\n",
       "<table border=\"1\" class=\"dataframe\">\n",
       "  <thead>\n",
       "    <tr style=\"text-align: right;\">\n",
       "      <th></th>\n",
       "      <th>CHROM</th>\n",
       "      <th>POS</th>\n",
       "      <th>ID_freebayes</th>\n",
       "      <th>REF_freebayes</th>\n",
       "      <th>ALT_1_freebayes</th>\n",
       "      <th>ALT_2_freebayes</th>\n",
       "      <th>ALT_3_freebayes</th>\n",
       "      <th>QUAL_freebayes</th>\n",
       "      <th>FILTER_PASS_freebayes</th>\n",
       "      <th>ID_mutect</th>\n",
       "      <th>...</th>\n",
       "      <th>ALT_3_mutect</th>\n",
       "      <th>QUAL_mutect</th>\n",
       "      <th>FILTER_PASS_mutect</th>\n",
       "      <th>ID_vardict</th>\n",
       "      <th>REF_vardict</th>\n",
       "      <th>ALT_1_vardict</th>\n",
       "      <th>ALT_2_vardict</th>\n",
       "      <th>ALT_3_vardict</th>\n",
       "      <th>QUAL_vardict</th>\n",
       "      <th>FILTER_PASS_vardict</th>\n",
       "    </tr>\n",
       "  </thead>\n",
       "  <tbody>\n",
       "    <tr>\n",
       "      <th>0</th>\n",
       "      <td>1</td>\n",
       "      <td>10177</td>\n",
       "      <td>rs367896724</td>\n",
       "      <td>A</td>\n",
       "      <td>AC</td>\n",
       "      <td>NaN</td>\n",
       "      <td>NaN</td>\n",
       "      <td>46.599998</td>\n",
       "      <td>False</td>\n",
       "      <td>NaN</td>\n",
       "      <td>...</td>\n",
       "      <td>NaN</td>\n",
       "      <td>NaN</td>\n",
       "      <td>NaN</td>\n",
       "      <td>NaN</td>\n",
       "      <td>NaN</td>\n",
       "      <td>NaN</td>\n",
       "      <td>NaN</td>\n",
       "      <td>NaN</td>\n",
       "      <td>NaN</td>\n",
       "      <td>NaN</td>\n",
       "    </tr>\n",
       "    <tr>\n",
       "      <th>1</th>\n",
       "      <td>1</td>\n",
       "      <td>10583</td>\n",
       "      <td>rs58108140</td>\n",
       "      <td>G</td>\n",
       "      <td>A</td>\n",
       "      <td>NaN</td>\n",
       "      <td>NaN</td>\n",
       "      <td>271.100006</td>\n",
       "      <td>False</td>\n",
       "      <td>NaN</td>\n",
       "      <td>...</td>\n",
       "      <td>NaN</td>\n",
       "      <td>NaN</td>\n",
       "      <td>NaN</td>\n",
       "      <td>rs58108140</td>\n",
       "      <td>G</td>\n",
       "      <td>A</td>\n",
       "      <td>NaN</td>\n",
       "      <td>NaN</td>\n",
       "      <td>122.0</td>\n",
       "      <td>False</td>\n",
       "    </tr>\n",
       "    <tr>\n",
       "      <th>2</th>\n",
       "      <td>1</td>\n",
       "      <td>12783</td>\n",
       "      <td>rs62635284</td>\n",
       "      <td>G</td>\n",
       "      <td>A</td>\n",
       "      <td>NaN</td>\n",
       "      <td>NaN</td>\n",
       "      <td>2044.599976</td>\n",
       "      <td>False</td>\n",
       "      <td>NaN</td>\n",
       "      <td>...</td>\n",
       "      <td>NaN</td>\n",
       "      <td>NaN</td>\n",
       "      <td>NaN</td>\n",
       "      <td>rs62635284</td>\n",
       "      <td>G</td>\n",
       "      <td>A</td>\n",
       "      <td>NaN</td>\n",
       "      <td>NaN</td>\n",
       "      <td>190.0</td>\n",
       "      <td>False</td>\n",
       "    </tr>\n",
       "    <tr>\n",
       "      <th>3</th>\n",
       "      <td>1</td>\n",
       "      <td>13116</td>\n",
       "      <td>rs62635286</td>\n",
       "      <td>T</td>\n",
       "      <td>G</td>\n",
       "      <td>NaN</td>\n",
       "      <td>NaN</td>\n",
       "      <td>1762.699951</td>\n",
       "      <td>False</td>\n",
       "      <td>NaN</td>\n",
       "      <td>...</td>\n",
       "      <td>NaN</td>\n",
       "      <td>NaN</td>\n",
       "      <td>NaN</td>\n",
       "      <td>rs62635286</td>\n",
       "      <td>T</td>\n",
       "      <td>G</td>\n",
       "      <td>NaN</td>\n",
       "      <td>NaN</td>\n",
       "      <td>230.0</td>\n",
       "      <td>False</td>\n",
       "    </tr>\n",
       "    <tr>\n",
       "      <th>4</th>\n",
       "      <td>1</td>\n",
       "      <td>13118</td>\n",
       "      <td>rs62028691</td>\n",
       "      <td>A</td>\n",
       "      <td>G</td>\n",
       "      <td>NaN</td>\n",
       "      <td>NaN</td>\n",
       "      <td>1762.699951</td>\n",
       "      <td>False</td>\n",
       "      <td>NaN</td>\n",
       "      <td>...</td>\n",
       "      <td>NaN</td>\n",
       "      <td>NaN</td>\n",
       "      <td>NaN</td>\n",
       "      <td>rs62028691</td>\n",
       "      <td>A</td>\n",
       "      <td>G</td>\n",
       "      <td>NaN</td>\n",
       "      <td>NaN</td>\n",
       "      <td>233.0</td>\n",
       "      <td>False</td>\n",
       "    </tr>\n",
       "  </tbody>\n",
       "</table>\n",
       "<p>5 rows × 23 columns</p>\n",
       "</div>"
      ],
      "text/plain": [
       "  CHROM    POS ID_freebayes REF_freebayes ALT_1_freebayes ALT_2_freebayes  \\\n",
       "0     1  10177  rs367896724             A              AC             NaN   \n",
       "1     1  10583   rs58108140             G               A             NaN   \n",
       "2     1  12783   rs62635284             G               A             NaN   \n",
       "3     1  13116   rs62635286             T               G             NaN   \n",
       "4     1  13118   rs62028691             A               G             NaN   \n",
       "\n",
       "  ALT_3_freebayes  QUAL_freebayes FILTER_PASS_freebayes ID_mutect  ...  \\\n",
       "0             NaN       46.599998                 False       NaN  ...   \n",
       "1             NaN      271.100006                 False       NaN  ...   \n",
       "2             NaN     2044.599976                 False       NaN  ...   \n",
       "3             NaN     1762.699951                 False       NaN  ...   \n",
       "4             NaN     1762.699951                 False       NaN  ...   \n",
       "\n",
       "  ALT_3_mutect QUAL_mutect  FILTER_PASS_mutect  ID_vardict  REF_vardict  \\\n",
       "0          NaN         NaN                 NaN         NaN          NaN   \n",
       "1          NaN         NaN                 NaN  rs58108140            G   \n",
       "2          NaN         NaN                 NaN  rs62635284            G   \n",
       "3          NaN         NaN                 NaN  rs62635286            T   \n",
       "4          NaN         NaN                 NaN  rs62028691            A   \n",
       "\n",
       "  ALT_1_vardict ALT_2_vardict ALT_3_vardict QUAL_vardict  FILTER_PASS_vardict  \n",
       "0           NaN           NaN           NaN          NaN                  NaN  \n",
       "1             A           NaN           NaN        122.0                False  \n",
       "2             A           NaN           NaN        190.0                False  \n",
       "3             G           NaN           NaN        230.0                False  \n",
       "4             G           NaN           NaN        233.0                False  \n",
       "\n",
       "[5 rows x 23 columns]"
      ]
     },
     "execution_count": 14,
     "metadata": {},
     "output_type": "execute_result"
    }
   ],
   "source": [
    "m2.head()"
   ]
  },
  {
   "cell_type": "code",
   "execution_count": 15,
   "id": "8d1003ba",
   "metadata": {},
   "outputs": [
    {
     "data": {
      "text/plain": [
       "(5412760, 23)"
      ]
     },
     "execution_count": 15,
     "metadata": {},
     "output_type": "execute_result"
    }
   ],
   "source": [
    "m2.shape"
   ]
  },
  {
   "cell_type": "code",
   "execution_count": 16,
   "id": "9b8eef63",
   "metadata": {},
   "outputs": [
    {
     "data": {
      "text/plain": [
       "(5790219, 30)"
      ]
     },
     "execution_count": 16,
     "metadata": {},
     "output_type": "execute_result"
    }
   ],
   "source": [
    "m3 = pd.merge(m2, df_varscan, on = [\"CHROM\", \"POS\"], how=\"outer\")\n",
    "m3.rename(columns={\"ID\": \"ID_varscan\", \"REF\": \"REF_varscan\", \"ALT_1\": \"ALT_1_varscan\", \"ALT_2\": \"ALT_2_varscan\", \\\n",
    "                  \"ALT_3\": \"ALT_3_varscan\", \"QUAL\": \"QUAL_varscan\", \"FILTER_PASS\": \"FILTER_PASS_varscan\"}, inplace=True)\n",
    "m3.shape"
   ]
  },
  {
   "cell_type": "code",
   "execution_count": 17,
   "id": "1dc69277",
   "metadata": {},
   "outputs": [
    {
     "data": {
      "text/html": [
       "<div>\n",
       "<style scoped>\n",
       "    .dataframe tbody tr th:only-of-type {\n",
       "        vertical-align: middle;\n",
       "    }\n",
       "\n",
       "    .dataframe tbody tr th {\n",
       "        vertical-align: top;\n",
       "    }\n",
       "\n",
       "    .dataframe thead th {\n",
       "        text-align: right;\n",
       "    }\n",
       "</style>\n",
       "<table border=\"1\" class=\"dataframe\">\n",
       "  <thead>\n",
       "    <tr style=\"text-align: right;\">\n",
       "      <th></th>\n",
       "      <th>CHROM</th>\n",
       "      <th>POS</th>\n",
       "      <th>ID_freebayes</th>\n",
       "      <th>REF_freebayes</th>\n",
       "      <th>ALT_1_freebayes</th>\n",
       "      <th>ALT_2_freebayes</th>\n",
       "      <th>ALT_3_freebayes</th>\n",
       "      <th>QUAL_freebayes</th>\n",
       "      <th>FILTER_PASS_freebayes</th>\n",
       "      <th>ID_mutect</th>\n",
       "      <th>...</th>\n",
       "      <th>ALT_3_vardict</th>\n",
       "      <th>QUAL_vardict</th>\n",
       "      <th>FILTER_PASS_vardict</th>\n",
       "      <th>ID_varscan</th>\n",
       "      <th>REF_varscan</th>\n",
       "      <th>ALT_1_varscan</th>\n",
       "      <th>ALT_2_varscan</th>\n",
       "      <th>ALT_3_varscan</th>\n",
       "      <th>QUAL_varscan</th>\n",
       "      <th>FILTER_PASS_varscan</th>\n",
       "    </tr>\n",
       "  </thead>\n",
       "  <tbody>\n",
       "    <tr>\n",
       "      <th>0</th>\n",
       "      <td>1</td>\n",
       "      <td>10177</td>\n",
       "      <td>rs367896724</td>\n",
       "      <td>A</td>\n",
       "      <td>AC</td>\n",
       "      <td>NaN</td>\n",
       "      <td>NaN</td>\n",
       "      <td>46.599998</td>\n",
       "      <td>False</td>\n",
       "      <td>NaN</td>\n",
       "      <td>...</td>\n",
       "      <td>NaN</td>\n",
       "      <td>NaN</td>\n",
       "      <td>NaN</td>\n",
       "      <td>rs367896724</td>\n",
       "      <td>A</td>\n",
       "      <td>AC</td>\n",
       "      <td>NaN</td>\n",
       "      <td>NaN</td>\n",
       "      <td>0.0</td>\n",
       "      <td>False</td>\n",
       "    </tr>\n",
       "    <tr>\n",
       "      <th>1</th>\n",
       "      <td>1</td>\n",
       "      <td>10583</td>\n",
       "      <td>rs58108140</td>\n",
       "      <td>G</td>\n",
       "      <td>A</td>\n",
       "      <td>NaN</td>\n",
       "      <td>NaN</td>\n",
       "      <td>271.100006</td>\n",
       "      <td>False</td>\n",
       "      <td>NaN</td>\n",
       "      <td>...</td>\n",
       "      <td>NaN</td>\n",
       "      <td>122.0</td>\n",
       "      <td>False</td>\n",
       "      <td>rs58108140</td>\n",
       "      <td>G</td>\n",
       "      <td>A</td>\n",
       "      <td>NaN</td>\n",
       "      <td>NaN</td>\n",
       "      <td>0.0</td>\n",
       "      <td>False</td>\n",
       "    </tr>\n",
       "    <tr>\n",
       "      <th>2</th>\n",
       "      <td>1</td>\n",
       "      <td>12783</td>\n",
       "      <td>rs62635284</td>\n",
       "      <td>G</td>\n",
       "      <td>A</td>\n",
       "      <td>NaN</td>\n",
       "      <td>NaN</td>\n",
       "      <td>2044.599976</td>\n",
       "      <td>False</td>\n",
       "      <td>NaN</td>\n",
       "      <td>...</td>\n",
       "      <td>NaN</td>\n",
       "      <td>190.0</td>\n",
       "      <td>False</td>\n",
       "      <td>rs62635284</td>\n",
       "      <td>G</td>\n",
       "      <td>A</td>\n",
       "      <td>NaN</td>\n",
       "      <td>NaN</td>\n",
       "      <td>0.0</td>\n",
       "      <td>False</td>\n",
       "    </tr>\n",
       "    <tr>\n",
       "      <th>3</th>\n",
       "      <td>1</td>\n",
       "      <td>13116</td>\n",
       "      <td>rs62635286</td>\n",
       "      <td>T</td>\n",
       "      <td>G</td>\n",
       "      <td>NaN</td>\n",
       "      <td>NaN</td>\n",
       "      <td>1762.699951</td>\n",
       "      <td>False</td>\n",
       "      <td>NaN</td>\n",
       "      <td>...</td>\n",
       "      <td>NaN</td>\n",
       "      <td>230.0</td>\n",
       "      <td>False</td>\n",
       "      <td>NaN</td>\n",
       "      <td>NaN</td>\n",
       "      <td>NaN</td>\n",
       "      <td>NaN</td>\n",
       "      <td>NaN</td>\n",
       "      <td>NaN</td>\n",
       "      <td>NaN</td>\n",
       "    </tr>\n",
       "    <tr>\n",
       "      <th>4</th>\n",
       "      <td>1</td>\n",
       "      <td>13118</td>\n",
       "      <td>rs62028691</td>\n",
       "      <td>A</td>\n",
       "      <td>G</td>\n",
       "      <td>NaN</td>\n",
       "      <td>NaN</td>\n",
       "      <td>1762.699951</td>\n",
       "      <td>False</td>\n",
       "      <td>NaN</td>\n",
       "      <td>...</td>\n",
       "      <td>NaN</td>\n",
       "      <td>233.0</td>\n",
       "      <td>False</td>\n",
       "      <td>NaN</td>\n",
       "      <td>NaN</td>\n",
       "      <td>NaN</td>\n",
       "      <td>NaN</td>\n",
       "      <td>NaN</td>\n",
       "      <td>NaN</td>\n",
       "      <td>NaN</td>\n",
       "    </tr>\n",
       "  </tbody>\n",
       "</table>\n",
       "<p>5 rows × 30 columns</p>\n",
       "</div>"
      ],
      "text/plain": [
       "  CHROM    POS ID_freebayes REF_freebayes ALT_1_freebayes ALT_2_freebayes  \\\n",
       "0     1  10177  rs367896724             A              AC             NaN   \n",
       "1     1  10583   rs58108140             G               A             NaN   \n",
       "2     1  12783   rs62635284             G               A             NaN   \n",
       "3     1  13116   rs62635286             T               G             NaN   \n",
       "4     1  13118   rs62028691             A               G             NaN   \n",
       "\n",
       "  ALT_3_freebayes  QUAL_freebayes FILTER_PASS_freebayes ID_mutect  ...  \\\n",
       "0             NaN       46.599998                 False       NaN  ...   \n",
       "1             NaN      271.100006                 False       NaN  ...   \n",
       "2             NaN     2044.599976                 False       NaN  ...   \n",
       "3             NaN     1762.699951                 False       NaN  ...   \n",
       "4             NaN     1762.699951                 False       NaN  ...   \n",
       "\n",
       "  ALT_3_vardict QUAL_vardict  FILTER_PASS_vardict   ID_varscan  REF_varscan  \\\n",
       "0           NaN          NaN                  NaN  rs367896724            A   \n",
       "1           NaN        122.0                False   rs58108140            G   \n",
       "2           NaN        190.0                False   rs62635284            G   \n",
       "3           NaN        230.0                False          NaN          NaN   \n",
       "4           NaN        233.0                False          NaN          NaN   \n",
       "\n",
       "  ALT_1_varscan ALT_2_varscan ALT_3_varscan QUAL_varscan  FILTER_PASS_varscan  \n",
       "0            AC           NaN           NaN          0.0                False  \n",
       "1             A           NaN           NaN          0.0                False  \n",
       "2             A           NaN           NaN          0.0                False  \n",
       "3           NaN           NaN           NaN          NaN                  NaN  \n",
       "4           NaN           NaN           NaN          NaN                  NaN  \n",
       "\n",
       "[5 rows x 30 columns]"
      ]
     },
     "execution_count": 17,
     "metadata": {},
     "output_type": "execute_result"
    }
   ],
   "source": [
    "m3.head()"
   ]
  },
  {
   "cell_type": "code",
   "execution_count": 18,
   "id": "61b64a13",
   "metadata": {},
   "outputs": [
    {
     "data": {
      "text/html": [
       "<div>\n",
       "<style scoped>\n",
       "    .dataframe tbody tr th:only-of-type {\n",
       "        vertical-align: middle;\n",
       "    }\n",
       "\n",
       "    .dataframe tbody tr th {\n",
       "        vertical-align: top;\n",
       "    }\n",
       "\n",
       "    .dataframe thead th {\n",
       "        text-align: right;\n",
       "    }\n",
       "</style>\n",
       "<table border=\"1\" class=\"dataframe\">\n",
       "  <thead>\n",
       "    <tr style=\"text-align: right;\">\n",
       "      <th></th>\n",
       "      <th>CHROM</th>\n",
       "      <th>POS</th>\n",
       "      <th>FILTER_PASS_freebayes</th>\n",
       "      <th>FILTER_PASS_mutect</th>\n",
       "      <th>FILTER_PASS_vardict</th>\n",
       "      <th>FILTER_PASS_varscan</th>\n",
       "    </tr>\n",
       "  </thead>\n",
       "  <tbody>\n",
       "    <tr>\n",
       "      <th>0</th>\n",
       "      <td>1</td>\n",
       "      <td>10177</td>\n",
       "      <td>False</td>\n",
       "      <td>NaN</td>\n",
       "      <td>NaN</td>\n",
       "      <td>False</td>\n",
       "    </tr>\n",
       "    <tr>\n",
       "      <th>1</th>\n",
       "      <td>1</td>\n",
       "      <td>10583</td>\n",
       "      <td>False</td>\n",
       "      <td>NaN</td>\n",
       "      <td>False</td>\n",
       "      <td>False</td>\n",
       "    </tr>\n",
       "    <tr>\n",
       "      <th>2</th>\n",
       "      <td>1</td>\n",
       "      <td>12783</td>\n",
       "      <td>False</td>\n",
       "      <td>NaN</td>\n",
       "      <td>False</td>\n",
       "      <td>False</td>\n",
       "    </tr>\n",
       "    <tr>\n",
       "      <th>3</th>\n",
       "      <td>1</td>\n",
       "      <td>13116</td>\n",
       "      <td>False</td>\n",
       "      <td>NaN</td>\n",
       "      <td>False</td>\n",
       "      <td>NaN</td>\n",
       "    </tr>\n",
       "    <tr>\n",
       "      <th>4</th>\n",
       "      <td>1</td>\n",
       "      <td>13118</td>\n",
       "      <td>False</td>\n",
       "      <td>NaN</td>\n",
       "      <td>False</td>\n",
       "      <td>NaN</td>\n",
       "    </tr>\n",
       "  </tbody>\n",
       "</table>\n",
       "</div>"
      ],
      "text/plain": [
       "  CHROM    POS FILTER_PASS_freebayes FILTER_PASS_mutect FILTER_PASS_vardict  \\\n",
       "0     1  10177                 False                NaN                 NaN   \n",
       "1     1  10583                 False                NaN               False   \n",
       "2     1  12783                 False                NaN               False   \n",
       "3     1  13116                 False                NaN               False   \n",
       "4     1  13118                 False                NaN               False   \n",
       "\n",
       "  FILTER_PASS_varscan  \n",
       "0               False  \n",
       "1               False  \n",
       "2               False  \n",
       "3                 NaN  \n",
       "4                 NaN  "
      ]
     },
     "execution_count": 18,
     "metadata": {},
     "output_type": "execute_result"
    }
   ],
   "source": [
    "m3.head()[[\"CHROM\", \"POS\", \"FILTER_PASS_freebayes\", \"FILTER_PASS_mutect\", \"FILTER_PASS_vardict\", \"FILTER_PASS_varscan\"]]"
   ]
  },
  {
   "cell_type": "code",
   "execution_count": 19,
   "id": "3dbc2b36",
   "metadata": {},
   "outputs": [],
   "source": [
    "df_merged = m3"
   ]
  },
  {
   "cell_type": "code",
   "execution_count": 20,
   "id": "cd5e9d34",
   "metadata": {},
   "outputs": [
    {
     "data": {
      "text/html": [
       "<div>\n",
       "<style scoped>\n",
       "    .dataframe tbody tr th:only-of-type {\n",
       "        vertical-align: middle;\n",
       "    }\n",
       "\n",
       "    .dataframe tbody tr th {\n",
       "        vertical-align: top;\n",
       "    }\n",
       "\n",
       "    .dataframe thead th {\n",
       "        text-align: right;\n",
       "    }\n",
       "</style>\n",
       "<table border=\"1\" class=\"dataframe\">\n",
       "  <thead>\n",
       "    <tr style=\"text-align: right;\">\n",
       "      <th></th>\n",
       "      <th>CHROM</th>\n",
       "      <th>POS</th>\n",
       "      <th>FILTER_PASS_freebayes</th>\n",
       "      <th>FILTER_PASS_mutect</th>\n",
       "      <th>FILTER_PASS_vardict</th>\n",
       "      <th>FILTER_PASS_varscan</th>\n",
       "    </tr>\n",
       "  </thead>\n",
       "  <tbody>\n",
       "    <tr>\n",
       "      <th>0</th>\n",
       "      <td>1</td>\n",
       "      <td>10177</td>\n",
       "      <td>False</td>\n",
       "      <td>False</td>\n",
       "      <td>False</td>\n",
       "      <td>False</td>\n",
       "    </tr>\n",
       "    <tr>\n",
       "      <th>1</th>\n",
       "      <td>1</td>\n",
       "      <td>10583</td>\n",
       "      <td>False</td>\n",
       "      <td>False</td>\n",
       "      <td>False</td>\n",
       "      <td>False</td>\n",
       "    </tr>\n",
       "    <tr>\n",
       "      <th>2</th>\n",
       "      <td>1</td>\n",
       "      <td>12783</td>\n",
       "      <td>False</td>\n",
       "      <td>False</td>\n",
       "      <td>False</td>\n",
       "      <td>False</td>\n",
       "    </tr>\n",
       "    <tr>\n",
       "      <th>3</th>\n",
       "      <td>1</td>\n",
       "      <td>13116</td>\n",
       "      <td>False</td>\n",
       "      <td>False</td>\n",
       "      <td>False</td>\n",
       "      <td>False</td>\n",
       "    </tr>\n",
       "    <tr>\n",
       "      <th>4</th>\n",
       "      <td>1</td>\n",
       "      <td>13118</td>\n",
       "      <td>False</td>\n",
       "      <td>False</td>\n",
       "      <td>False</td>\n",
       "      <td>False</td>\n",
       "    </tr>\n",
       "  </tbody>\n",
       "</table>\n",
       "</div>"
      ],
      "text/plain": [
       "  CHROM    POS  FILTER_PASS_freebayes  FILTER_PASS_mutect  \\\n",
       "0     1  10177                  False               False   \n",
       "1     1  10583                  False               False   \n",
       "2     1  12783                  False               False   \n",
       "3     1  13116                  False               False   \n",
       "4     1  13118                  False               False   \n",
       "\n",
       "   FILTER_PASS_vardict  FILTER_PASS_varscan  \n",
       "0                False                False  \n",
       "1                False                False  \n",
       "2                False                False  \n",
       "3                False                False  \n",
       "4                False                False  "
      ]
     },
     "execution_count": 20,
     "metadata": {},
     "output_type": "execute_result"
    }
   ],
   "source": [
    "# add third category instead of False?\n",
    "df_merged[\"FILTER_PASS_freebayes\"].fillna(False, inplace=True)\n",
    "df_merged[\"FILTER_PASS_vardict\"].fillna(False, inplace=True)\n",
    "df_merged[\"FILTER_PASS_mutect\"].fillna(False, inplace=True)\n",
    "df_merged[\"FILTER_PASS_varscan\"].fillna(False, inplace=True)\n",
    "df_merged.head()[[\"CHROM\", \"POS\", \"FILTER_PASS_freebayes\", \"FILTER_PASS_mutect\", \"FILTER_PASS_vardict\", \"FILTER_PASS_varscan\"]]"
   ]
  },
  {
   "cell_type": "code",
   "execution_count": 21,
   "id": "9b094f82",
   "metadata": {},
   "outputs": [
    {
     "data": {
      "text/html": [
       "<div>\n",
       "<style scoped>\n",
       "    .dataframe tbody tr th:only-of-type {\n",
       "        vertical-align: middle;\n",
       "    }\n",
       "\n",
       "    .dataframe tbody tr th {\n",
       "        vertical-align: top;\n",
       "    }\n",
       "\n",
       "    .dataframe thead th {\n",
       "        text-align: right;\n",
       "    }\n",
       "</style>\n",
       "<table border=\"1\" class=\"dataframe\">\n",
       "  <thead>\n",
       "    <tr style=\"text-align: right;\">\n",
       "      <th></th>\n",
       "      <th>CHROM</th>\n",
       "      <th>POS_START</th>\n",
       "      <th>POS_END</th>\n",
       "    </tr>\n",
       "  </thead>\n",
       "  <tbody>\n",
       "    <tr>\n",
       "      <th>0</th>\n",
       "      <td>1</td>\n",
       "      <td>2180985</td>\n",
       "      <td>2180985</td>\n",
       "    </tr>\n",
       "    <tr>\n",
       "      <th>1</th>\n",
       "      <td>1</td>\n",
       "      <td>5035185</td>\n",
       "      <td>5035185</td>\n",
       "    </tr>\n",
       "    <tr>\n",
       "      <th>2</th>\n",
       "      <td>1</td>\n",
       "      <td>8881322</td>\n",
       "      <td>8881322</td>\n",
       "    </tr>\n",
       "    <tr>\n",
       "      <th>3</th>\n",
       "      <td>1</td>\n",
       "      <td>8929624</td>\n",
       "      <td>8929624</td>\n",
       "    </tr>\n",
       "    <tr>\n",
       "      <th>4</th>\n",
       "      <td>1</td>\n",
       "      <td>9196716</td>\n",
       "      <td>9196716</td>\n",
       "    </tr>\n",
       "  </tbody>\n",
       "</table>\n",
       "</div>"
      ],
      "text/plain": [
       "  CHROM  POS_START  POS_END\n",
       "0     1    2180985  2180985\n",
       "1     1    5035185  5035185\n",
       "2     1    8881322  8881322\n",
       "3     1    8929624  8929624\n",
       "4     1    9196716  9196716"
      ]
     },
     "execution_count": 21,
     "metadata": {},
     "output_type": "execute_result"
    }
   ],
   "source": [
    "truth = pd.read_csv(vcf_folder + \"real1_truth.bed\", sep = \"\\t\", header = None)\n",
    "truth.columns = [\"CHROM\", \"POS_START\", \"POS_END\"]\n",
    "truth.head()"
   ]
  },
  {
   "cell_type": "code",
   "execution_count": 22,
   "id": "78240587",
   "metadata": {},
   "outputs": [
    {
     "data": {
      "text/plain": [
       "1319"
      ]
     },
     "execution_count": 22,
     "metadata": {},
     "output_type": "execute_result"
    }
   ],
   "source": [
    "(truth.POS_START == truth.POS_END).sum()"
   ]
  },
  {
   "cell_type": "code",
   "execution_count": 23,
   "id": "19776f77",
   "metadata": {},
   "outputs": [
    {
     "data": {
      "text/plain": [
       "(1319, 3)"
      ]
     },
     "execution_count": 23,
     "metadata": {},
     "output_type": "execute_result"
    }
   ],
   "source": [
    "truth.shape"
   ]
  },
  {
   "cell_type": "code",
   "execution_count": 24,
   "id": "6b4509bd",
   "metadata": {},
   "outputs": [
    {
     "data": {
      "text/html": [
       "<div>\n",
       "<style scoped>\n",
       "    .dataframe tbody tr th:only-of-type {\n",
       "        vertical-align: middle;\n",
       "    }\n",
       "\n",
       "    .dataframe tbody tr th {\n",
       "        vertical-align: top;\n",
       "    }\n",
       "\n",
       "    .dataframe thead th {\n",
       "        text-align: right;\n",
       "    }\n",
       "</style>\n",
       "<table border=\"1\" class=\"dataframe\">\n",
       "  <thead>\n",
       "    <tr style=\"text-align: right;\">\n",
       "      <th></th>\n",
       "      <th>CHROM</th>\n",
       "      <th>POS_START</th>\n",
       "      <th>POS_END</th>\n",
       "      <th>POS</th>\n",
       "      <th>ID_freebayes</th>\n",
       "      <th>REF_freebayes</th>\n",
       "      <th>ALT_1_freebayes</th>\n",
       "      <th>ALT_2_freebayes</th>\n",
       "      <th>ALT_3_freebayes</th>\n",
       "      <th>QUAL_freebayes</th>\n",
       "      <th>...</th>\n",
       "      <th>ALT_3_vardict</th>\n",
       "      <th>QUAL_vardict</th>\n",
       "      <th>FILTER_PASS_vardict</th>\n",
       "      <th>ID_varscan</th>\n",
       "      <th>REF_varscan</th>\n",
       "      <th>ALT_1_varscan</th>\n",
       "      <th>ALT_2_varscan</th>\n",
       "      <th>ALT_3_varscan</th>\n",
       "      <th>QUAL_varscan</th>\n",
       "      <th>FILTER_PASS_varscan</th>\n",
       "    </tr>\n",
       "  </thead>\n",
       "  <tbody>\n",
       "    <tr>\n",
       "      <th>0</th>\n",
       "      <td>1</td>\n",
       "      <td>2180985</td>\n",
       "      <td>2180985</td>\n",
       "      <td>2180985</td>\n",
       "      <td>.</td>\n",
       "      <td>A</td>\n",
       "      <td>G</td>\n",
       "      <td>NaN</td>\n",
       "      <td>NaN</td>\n",
       "      <td>1301.400024</td>\n",
       "      <td>...</td>\n",
       "      <td>NaN</td>\n",
       "      <td>193.0</td>\n",
       "      <td>True</td>\n",
       "      <td>.</td>\n",
       "      <td>A</td>\n",
       "      <td>G</td>\n",
       "      <td>NaN</td>\n",
       "      <td>NaN</td>\n",
       "      <td>0.0</td>\n",
       "      <td>False</td>\n",
       "    </tr>\n",
       "    <tr>\n",
       "      <th>1</th>\n",
       "      <td>1</td>\n",
       "      <td>5035185</td>\n",
       "      <td>5035185</td>\n",
       "      <td>5035185</td>\n",
       "      <td>rs578164071</td>\n",
       "      <td>C</td>\n",
       "      <td>T</td>\n",
       "      <td>NaN</td>\n",
       "      <td>NaN</td>\n",
       "      <td>279.399994</td>\n",
       "      <td>...</td>\n",
       "      <td>NaN</td>\n",
       "      <td>130.0</td>\n",
       "      <td>True</td>\n",
       "      <td>rs578164071</td>\n",
       "      <td>C</td>\n",
       "      <td>T</td>\n",
       "      <td>NaN</td>\n",
       "      <td>NaN</td>\n",
       "      <td>0.0</td>\n",
       "      <td>True</td>\n",
       "    </tr>\n",
       "    <tr>\n",
       "      <th>2</th>\n",
       "      <td>1</td>\n",
       "      <td>8881322</td>\n",
       "      <td>8881322</td>\n",
       "      <td>8881322</td>\n",
       "      <td>.</td>\n",
       "      <td>G</td>\n",
       "      <td>A</td>\n",
       "      <td>NaN</td>\n",
       "      <td>NaN</td>\n",
       "      <td>123.900002</td>\n",
       "      <td>...</td>\n",
       "      <td>NaN</td>\n",
       "      <td>93.0</td>\n",
       "      <td>True</td>\n",
       "      <td>.</td>\n",
       "      <td>G</td>\n",
       "      <td>A</td>\n",
       "      <td>NaN</td>\n",
       "      <td>NaN</td>\n",
       "      <td>0.0</td>\n",
       "      <td>False</td>\n",
       "    </tr>\n",
       "    <tr>\n",
       "      <th>3</th>\n",
       "      <td>1</td>\n",
       "      <td>8929624</td>\n",
       "      <td>8929624</td>\n",
       "      <td>8929624</td>\n",
       "      <td>.</td>\n",
       "      <td>A</td>\n",
       "      <td>G</td>\n",
       "      <td>NaN</td>\n",
       "      <td>NaN</td>\n",
       "      <td>93.900002</td>\n",
       "      <td>...</td>\n",
       "      <td>NaN</td>\n",
       "      <td>86.0</td>\n",
       "      <td>True</td>\n",
       "      <td>.</td>\n",
       "      <td>A</td>\n",
       "      <td>G</td>\n",
       "      <td>NaN</td>\n",
       "      <td>NaN</td>\n",
       "      <td>0.0</td>\n",
       "      <td>False</td>\n",
       "    </tr>\n",
       "    <tr>\n",
       "      <th>4</th>\n",
       "      <td>1</td>\n",
       "      <td>9196716</td>\n",
       "      <td>9196716</td>\n",
       "      <td>9196716</td>\n",
       "      <td>NaN</td>\n",
       "      <td>NaN</td>\n",
       "      <td>NaN</td>\n",
       "      <td>NaN</td>\n",
       "      <td>NaN</td>\n",
       "      <td>NaN</td>\n",
       "      <td>...</td>\n",
       "      <td>NaN</td>\n",
       "      <td>47.0</td>\n",
       "      <td>True</td>\n",
       "      <td>.</td>\n",
       "      <td>C</td>\n",
       "      <td>T</td>\n",
       "      <td>NaN</td>\n",
       "      <td>NaN</td>\n",
       "      <td>0.0</td>\n",
       "      <td>True</td>\n",
       "    </tr>\n",
       "    <tr>\n",
       "      <th>...</th>\n",
       "      <td>...</td>\n",
       "      <td>...</td>\n",
       "      <td>...</td>\n",
       "      <td>...</td>\n",
       "      <td>...</td>\n",
       "      <td>...</td>\n",
       "      <td>...</td>\n",
       "      <td>...</td>\n",
       "      <td>...</td>\n",
       "      <td>...</td>\n",
       "      <td>...</td>\n",
       "      <td>...</td>\n",
       "      <td>...</td>\n",
       "      <td>...</td>\n",
       "      <td>...</td>\n",
       "      <td>...</td>\n",
       "      <td>...</td>\n",
       "      <td>...</td>\n",
       "      <td>...</td>\n",
       "      <td>...</td>\n",
       "      <td>...</td>\n",
       "    </tr>\n",
       "    <tr>\n",
       "      <th>1303</th>\n",
       "      <td>X</td>\n",
       "      <td>141680928</td>\n",
       "      <td>141680928</td>\n",
       "      <td>141680928</td>\n",
       "      <td>rs1047604339</td>\n",
       "      <td>C</td>\n",
       "      <td>A</td>\n",
       "      <td>NaN</td>\n",
       "      <td>NaN</td>\n",
       "      <td>39.400002</td>\n",
       "      <td>...</td>\n",
       "      <td>NaN</td>\n",
       "      <td>62.0</td>\n",
       "      <td>True</td>\n",
       "      <td>rs1047604339</td>\n",
       "      <td>C</td>\n",
       "      <td>A</td>\n",
       "      <td>NaN</td>\n",
       "      <td>NaN</td>\n",
       "      <td>0.0</td>\n",
       "      <td>True</td>\n",
       "    </tr>\n",
       "    <tr>\n",
       "      <th>1304</th>\n",
       "      <td>X</td>\n",
       "      <td>142275497</td>\n",
       "      <td>142275497</td>\n",
       "      <td>142275497</td>\n",
       "      <td>.</td>\n",
       "      <td>T</td>\n",
       "      <td>C</td>\n",
       "      <td>NaN</td>\n",
       "      <td>NaN</td>\n",
       "      <td>360.600006</td>\n",
       "      <td>...</td>\n",
       "      <td>NaN</td>\n",
       "      <td>131.0</td>\n",
       "      <td>True</td>\n",
       "      <td>.</td>\n",
       "      <td>T</td>\n",
       "      <td>C</td>\n",
       "      <td>NaN</td>\n",
       "      <td>NaN</td>\n",
       "      <td>0.0</td>\n",
       "      <td>False</td>\n",
       "    </tr>\n",
       "    <tr>\n",
       "      <th>1305</th>\n",
       "      <td>X</td>\n",
       "      <td>144737796</td>\n",
       "      <td>144737796</td>\n",
       "      <td>144737796</td>\n",
       "      <td>.</td>\n",
       "      <td>C</td>\n",
       "      <td>G</td>\n",
       "      <td>NaN</td>\n",
       "      <td>NaN</td>\n",
       "      <td>112.199997</td>\n",
       "      <td>...</td>\n",
       "      <td>NaN</td>\n",
       "      <td>97.0</td>\n",
       "      <td>True</td>\n",
       "      <td>.</td>\n",
       "      <td>C</td>\n",
       "      <td>G</td>\n",
       "      <td>NaN</td>\n",
       "      <td>NaN</td>\n",
       "      <td>0.0</td>\n",
       "      <td>True</td>\n",
       "    </tr>\n",
       "    <tr>\n",
       "      <th>1306</th>\n",
       "      <td>Y</td>\n",
       "      <td>15154839</td>\n",
       "      <td>15154839</td>\n",
       "      <td>15154839</td>\n",
       "      <td>.</td>\n",
       "      <td>G</td>\n",
       "      <td>C</td>\n",
       "      <td>NaN</td>\n",
       "      <td>NaN</td>\n",
       "      <td>379.500000</td>\n",
       "      <td>...</td>\n",
       "      <td>NaN</td>\n",
       "      <td>127.0</td>\n",
       "      <td>True</td>\n",
       "      <td>.</td>\n",
       "      <td>G</td>\n",
       "      <td>C</td>\n",
       "      <td>NaN</td>\n",
       "      <td>NaN</td>\n",
       "      <td>0.0</td>\n",
       "      <td>False</td>\n",
       "    </tr>\n",
       "    <tr>\n",
       "      <th>1307</th>\n",
       "      <td>Y</td>\n",
       "      <td>15681833</td>\n",
       "      <td>15681833</td>\n",
       "      <td>15681833</td>\n",
       "      <td>NaN</td>\n",
       "      <td>NaN</td>\n",
       "      <td>NaN</td>\n",
       "      <td>NaN</td>\n",
       "      <td>NaN</td>\n",
       "      <td>NaN</td>\n",
       "      <td>...</td>\n",
       "      <td>NaN</td>\n",
       "      <td>47.0</td>\n",
       "      <td>True</td>\n",
       "      <td>NaN</td>\n",
       "      <td>NaN</td>\n",
       "      <td>NaN</td>\n",
       "      <td>NaN</td>\n",
       "      <td>NaN</td>\n",
       "      <td>NaN</td>\n",
       "      <td>False</td>\n",
       "    </tr>\n",
       "  </tbody>\n",
       "</table>\n",
       "<p>1308 rows × 32 columns</p>\n",
       "</div>"
      ],
      "text/plain": [
       "     CHROM  POS_START    POS_END        POS  ID_freebayes REF_freebayes  \\\n",
       "0        1    2180985    2180985    2180985             .             A   \n",
       "1        1    5035185    5035185    5035185   rs578164071             C   \n",
       "2        1    8881322    8881322    8881322             .             G   \n",
       "3        1    8929624    8929624    8929624             .             A   \n",
       "4        1    9196716    9196716    9196716           NaN           NaN   \n",
       "...    ...        ...        ...        ...           ...           ...   \n",
       "1303     X  141680928  141680928  141680928  rs1047604339             C   \n",
       "1304     X  142275497  142275497  142275497             .             T   \n",
       "1305     X  144737796  144737796  144737796             .             C   \n",
       "1306     Y   15154839   15154839   15154839             .             G   \n",
       "1307     Y   15681833   15681833   15681833           NaN           NaN   \n",
       "\n",
       "     ALT_1_freebayes ALT_2_freebayes ALT_3_freebayes  QUAL_freebayes  ...  \\\n",
       "0                  G             NaN             NaN     1301.400024  ...   \n",
       "1                  T             NaN             NaN      279.399994  ...   \n",
       "2                  A             NaN             NaN      123.900002  ...   \n",
       "3                  G             NaN             NaN       93.900002  ...   \n",
       "4                NaN             NaN             NaN             NaN  ...   \n",
       "...              ...             ...             ...             ...  ...   \n",
       "1303               A             NaN             NaN       39.400002  ...   \n",
       "1304               C             NaN             NaN      360.600006  ...   \n",
       "1305               G             NaN             NaN      112.199997  ...   \n",
       "1306               C             NaN             NaN      379.500000  ...   \n",
       "1307             NaN             NaN             NaN             NaN  ...   \n",
       "\n",
       "      ALT_3_vardict QUAL_vardict FILTER_PASS_vardict    ID_varscan  \\\n",
       "0               NaN        193.0                True             .   \n",
       "1               NaN        130.0                True   rs578164071   \n",
       "2               NaN         93.0                True             .   \n",
       "3               NaN         86.0                True             .   \n",
       "4               NaN         47.0                True             .   \n",
       "...             ...          ...                 ...           ...   \n",
       "1303            NaN         62.0                True  rs1047604339   \n",
       "1304            NaN        131.0                True             .   \n",
       "1305            NaN         97.0                True             .   \n",
       "1306            NaN        127.0                True             .   \n",
       "1307            NaN         47.0                True           NaN   \n",
       "\n",
       "      REF_varscan  ALT_1_varscan  ALT_2_varscan  ALT_3_varscan QUAL_varscan  \\\n",
       "0               A              G            NaN            NaN          0.0   \n",
       "1               C              T            NaN            NaN          0.0   \n",
       "2               G              A            NaN            NaN          0.0   \n",
       "3               A              G            NaN            NaN          0.0   \n",
       "4               C              T            NaN            NaN          0.0   \n",
       "...           ...            ...            ...            ...          ...   \n",
       "1303            C              A            NaN            NaN          0.0   \n",
       "1304            T              C            NaN            NaN          0.0   \n",
       "1305            C              G            NaN            NaN          0.0   \n",
       "1306            G              C            NaN            NaN          0.0   \n",
       "1307          NaN            NaN            NaN            NaN          NaN   \n",
       "\n",
       "     FILTER_PASS_varscan  \n",
       "0                  False  \n",
       "1                   True  \n",
       "2                  False  \n",
       "3                  False  \n",
       "4                   True  \n",
       "...                  ...  \n",
       "1303                True  \n",
       "1304               False  \n",
       "1305                True  \n",
       "1306               False  \n",
       "1307               False  \n",
       "\n",
       "[1308 rows x 32 columns]"
      ]
     },
     "execution_count": 24,
     "metadata": {},
     "output_type": "execute_result"
    }
   ],
   "source": [
    "truth.merge(df_merged, left_on = [\"CHROM\", \"POS_START\"], right_on = [\"CHROM\", \"POS\"])\n",
    "# this is smaller than the actual truth file indicating the all 4 variant callers missed to classify some true variants"
   ]
  },
  {
   "cell_type": "code",
   "execution_count": 25,
   "id": "d93174d4",
   "metadata": {},
   "outputs": [
    {
     "data": {
      "text/html": [
       "<div>\n",
       "<style scoped>\n",
       "    .dataframe tbody tr th:only-of-type {\n",
       "        vertical-align: middle;\n",
       "    }\n",
       "\n",
       "    .dataframe tbody tr th {\n",
       "        vertical-align: top;\n",
       "    }\n",
       "\n",
       "    .dataframe thead th {\n",
       "        text-align: right;\n",
       "    }\n",
       "</style>\n",
       "<table border=\"1\" class=\"dataframe\">\n",
       "  <thead>\n",
       "    <tr style=\"text-align: right;\">\n",
       "      <th></th>\n",
       "      <th>CHROM</th>\n",
       "      <th>POS_START</th>\n",
       "      <th>POS_END</th>\n",
       "      <th>POS</th>\n",
       "      <th>ID_freebayes</th>\n",
       "      <th>REF_freebayes</th>\n",
       "      <th>ALT_1_freebayes</th>\n",
       "      <th>ALT_2_freebayes</th>\n",
       "      <th>ALT_3_freebayes</th>\n",
       "      <th>QUAL_freebayes</th>\n",
       "      <th>...</th>\n",
       "      <th>ALT_3_vardict</th>\n",
       "      <th>QUAL_vardict</th>\n",
       "      <th>FILTER_PASS_vardict</th>\n",
       "      <th>ID_varscan</th>\n",
       "      <th>REF_varscan</th>\n",
       "      <th>ALT_1_varscan</th>\n",
       "      <th>ALT_2_varscan</th>\n",
       "      <th>ALT_3_varscan</th>\n",
       "      <th>QUAL_varscan</th>\n",
       "      <th>FILTER_PASS_varscan</th>\n",
       "    </tr>\n",
       "  </thead>\n",
       "  <tbody>\n",
       "    <tr>\n",
       "      <th>0</th>\n",
       "      <td>1</td>\n",
       "      <td>2180985.0</td>\n",
       "      <td>2180985.0</td>\n",
       "      <td>2180985.0</td>\n",
       "      <td>.</td>\n",
       "      <td>A</td>\n",
       "      <td>G</td>\n",
       "      <td>NaN</td>\n",
       "      <td>NaN</td>\n",
       "      <td>1301.400024</td>\n",
       "      <td>...</td>\n",
       "      <td>NaN</td>\n",
       "      <td>193.0</td>\n",
       "      <td>True</td>\n",
       "      <td>.</td>\n",
       "      <td>A</td>\n",
       "      <td>G</td>\n",
       "      <td>NaN</td>\n",
       "      <td>NaN</td>\n",
       "      <td>0.0</td>\n",
       "      <td>False</td>\n",
       "    </tr>\n",
       "    <tr>\n",
       "      <th>1</th>\n",
       "      <td>1</td>\n",
       "      <td>5035185.0</td>\n",
       "      <td>5035185.0</td>\n",
       "      <td>5035185.0</td>\n",
       "      <td>rs578164071</td>\n",
       "      <td>C</td>\n",
       "      <td>T</td>\n",
       "      <td>NaN</td>\n",
       "      <td>NaN</td>\n",
       "      <td>279.399994</td>\n",
       "      <td>...</td>\n",
       "      <td>NaN</td>\n",
       "      <td>130.0</td>\n",
       "      <td>True</td>\n",
       "      <td>rs578164071</td>\n",
       "      <td>C</td>\n",
       "      <td>T</td>\n",
       "      <td>NaN</td>\n",
       "      <td>NaN</td>\n",
       "      <td>0.0</td>\n",
       "      <td>True</td>\n",
       "    </tr>\n",
       "    <tr>\n",
       "      <th>2</th>\n",
       "      <td>1</td>\n",
       "      <td>8881322.0</td>\n",
       "      <td>8881322.0</td>\n",
       "      <td>8881322.0</td>\n",
       "      <td>.</td>\n",
       "      <td>G</td>\n",
       "      <td>A</td>\n",
       "      <td>NaN</td>\n",
       "      <td>NaN</td>\n",
       "      <td>123.900002</td>\n",
       "      <td>...</td>\n",
       "      <td>NaN</td>\n",
       "      <td>93.0</td>\n",
       "      <td>True</td>\n",
       "      <td>.</td>\n",
       "      <td>G</td>\n",
       "      <td>A</td>\n",
       "      <td>NaN</td>\n",
       "      <td>NaN</td>\n",
       "      <td>0.0</td>\n",
       "      <td>False</td>\n",
       "    </tr>\n",
       "    <tr>\n",
       "      <th>3</th>\n",
       "      <td>1</td>\n",
       "      <td>8929624.0</td>\n",
       "      <td>8929624.0</td>\n",
       "      <td>8929624.0</td>\n",
       "      <td>.</td>\n",
       "      <td>A</td>\n",
       "      <td>G</td>\n",
       "      <td>NaN</td>\n",
       "      <td>NaN</td>\n",
       "      <td>93.900002</td>\n",
       "      <td>...</td>\n",
       "      <td>NaN</td>\n",
       "      <td>86.0</td>\n",
       "      <td>True</td>\n",
       "      <td>.</td>\n",
       "      <td>A</td>\n",
       "      <td>G</td>\n",
       "      <td>NaN</td>\n",
       "      <td>NaN</td>\n",
       "      <td>0.0</td>\n",
       "      <td>False</td>\n",
       "    </tr>\n",
       "    <tr>\n",
       "      <th>4</th>\n",
       "      <td>1</td>\n",
       "      <td>9196716.0</td>\n",
       "      <td>9196716.0</td>\n",
       "      <td>9196716.0</td>\n",
       "      <td>NaN</td>\n",
       "      <td>NaN</td>\n",
       "      <td>NaN</td>\n",
       "      <td>NaN</td>\n",
       "      <td>NaN</td>\n",
       "      <td>NaN</td>\n",
       "      <td>...</td>\n",
       "      <td>NaN</td>\n",
       "      <td>47.0</td>\n",
       "      <td>True</td>\n",
       "      <td>.</td>\n",
       "      <td>C</td>\n",
       "      <td>T</td>\n",
       "      <td>NaN</td>\n",
       "      <td>NaN</td>\n",
       "      <td>0.0</td>\n",
       "      <td>True</td>\n",
       "    </tr>\n",
       "  </tbody>\n",
       "</table>\n",
       "<p>5 rows × 32 columns</p>\n",
       "</div>"
      ],
      "text/plain": [
       "  CHROM  POS_START    POS_END        POS ID_freebayes REF_freebayes  \\\n",
       "0     1  2180985.0  2180985.0  2180985.0            .             A   \n",
       "1     1  5035185.0  5035185.0  5035185.0  rs578164071             C   \n",
       "2     1  8881322.0  8881322.0  8881322.0            .             G   \n",
       "3     1  8929624.0  8929624.0  8929624.0            .             A   \n",
       "4     1  9196716.0  9196716.0  9196716.0          NaN           NaN   \n",
       "\n",
       "  ALT_1_freebayes ALT_2_freebayes ALT_3_freebayes  QUAL_freebayes  ...  \\\n",
       "0               G             NaN             NaN     1301.400024  ...   \n",
       "1               T             NaN             NaN      279.399994  ...   \n",
       "2               A             NaN             NaN      123.900002  ...   \n",
       "3               G             NaN             NaN       93.900002  ...   \n",
       "4             NaN             NaN             NaN             NaN  ...   \n",
       "\n",
       "  ALT_3_vardict QUAL_vardict FILTER_PASS_vardict   ID_varscan  REF_varscan  \\\n",
       "0           NaN        193.0                True            .            A   \n",
       "1           NaN        130.0                True  rs578164071            C   \n",
       "2           NaN         93.0                True            .            G   \n",
       "3           NaN         86.0                True            .            A   \n",
       "4           NaN         47.0                True            .            C   \n",
       "\n",
       "   ALT_1_varscan  ALT_2_varscan ALT_3_varscan QUAL_varscan FILTER_PASS_varscan  \n",
       "0              G            NaN           NaN          0.0               False  \n",
       "1              T            NaN           NaN          0.0                True  \n",
       "2              A            NaN           NaN          0.0               False  \n",
       "3              G            NaN           NaN          0.0               False  \n",
       "4              T            NaN           NaN          0.0                True  \n",
       "\n",
       "[5 rows x 32 columns]"
      ]
     },
     "execution_count": 25,
     "metadata": {},
     "output_type": "execute_result"
    }
   ],
   "source": [
    "df_merged_with_truth = pd.merge(truth, df_merged, left_on=[\"CHROM\", \"POS_START\"], right_on = [\"CHROM\", \"POS\"], how=\"outer\")\n",
    "df_merged_with_truth.head()"
   ]
  },
  {
   "cell_type": "code",
   "execution_count": 26,
   "id": "fbc16b74",
   "metadata": {},
   "outputs": [
    {
     "data": {
      "text/plain": [
       "(5790230, 32)"
      ]
     },
     "execution_count": 26,
     "metadata": {},
     "output_type": "execute_result"
    }
   ],
   "source": [
    "df_merged_with_truth.shape"
   ]
  },
  {
   "cell_type": "code",
   "execution_count": 27,
   "id": "bee8b2ee",
   "metadata": {},
   "outputs": [],
   "source": [
    "def set_true_label(row):\n",
    "    if str(row) == \"nan\":\n",
    "        return False\n",
    "    else:\n",
    "        return True"
   ]
  },
  {
   "cell_type": "code",
   "execution_count": 28,
   "id": "07fc0cfc",
   "metadata": {},
   "outputs": [],
   "source": [
    "df_merged_with_truth[\"truth\"] = df_merged_with_truth[\"POS_START\"].apply(lambda row:set_true_label(row))"
   ]
  },
  {
   "cell_type": "code",
   "execution_count": 29,
   "id": "c6d637f6",
   "metadata": {},
   "outputs": [
    {
     "data": {
      "text/plain": [
       "Int64Index([116, 126, 224, 250, 317, 700, 762, 886, 1149, 1157, 1316], dtype='int64')"
      ]
     },
     "execution_count": 29,
     "metadata": {},
     "output_type": "execute_result"
    }
   ],
   "source": [
    "extras_in_truth = df_merged_with_truth[df_merged_with_truth.POS.isna()].index\n",
    "extras_in_truth"
   ]
  },
  {
   "cell_type": "code",
   "execution_count": 30,
   "id": "ebcdf198",
   "metadata": {},
   "outputs": [],
   "source": [
    "df_merged_with_truth.drop(extras_in_truth, inplace=True)"
   ]
  },
  {
   "cell_type": "code",
   "execution_count": 31,
   "id": "b8b77538",
   "metadata": {},
   "outputs": [
    {
     "data": {
      "text/plain": [
       "CHROM                          0\n",
       "POS_START                5788911\n",
       "POS_END                  5788911\n",
       "POS                            0\n",
       "ID_freebayes              799461\n",
       "REF_freebayes             799461\n",
       "ALT_1_freebayes           799461\n",
       "ALT_2_freebayes          5662164\n",
       "ALT_3_freebayes          5780010\n",
       "QUAL_freebayes            799462\n",
       "FILTER_PASS_freebayes          0\n",
       "ID_mutect                5677201\n",
       "REF_mutect               5677201\n",
       "ALT_1_mutect             5677201\n",
       "ALT_2_mutect             5790219\n",
       "ALT_3_mutect             5790219\n",
       "QUAL_mutect              5790219\n",
       "FILTER_PASS_mutect             0\n",
       "ID_vardict                933993\n",
       "REF_vardict               933993\n",
       "ALT_1_vardict             933993\n",
       "ALT_2_vardict            5790219\n",
       "ALT_3_vardict            5790219\n",
       "QUAL_vardict              934423\n",
       "FILTER_PASS_vardict            0\n",
       "ID_varscan                844188\n",
       "REF_varscan               844188\n",
       "ALT_1_varscan             844188\n",
       "ALT_2_varscan            5790219\n",
       "ALT_3_varscan            5790219\n",
       "QUAL_varscan              844188\n",
       "FILTER_PASS_varscan            0\n",
       "truth                          0\n",
       "dtype: int64"
      ]
     },
     "execution_count": 31,
     "metadata": {},
     "output_type": "execute_result"
    }
   ],
   "source": [
    "df_merged_with_truth.isna().sum()"
   ]
  },
  {
   "cell_type": "code",
   "execution_count": 32,
   "id": "ab9fb74f",
   "metadata": {},
   "outputs": [],
   "source": [
    "df_merged_with_truth[\"QUAL_freebayes\"].fillna(df_merged_with_truth[\"QUAL_freebayes\"].mean(), inplace=True)\n",
    "df_merged_with_truth[\"QUAL_vardict\"].fillna(df_merged_with_truth[\"QUAL_vardict\"].mean(), inplace=True)"
   ]
  },
  {
   "cell_type": "code",
   "execution_count": 33,
   "id": "cb61fba4",
   "metadata": {},
   "outputs": [
    {
     "data": {
      "text/plain": [
       "5790219"
      ]
     },
     "execution_count": 33,
     "metadata": {},
     "output_type": "execute_result"
    }
   ],
   "source": [
    "df_merged_with_truth[\"QUAL_mutect\"].isna().sum()"
   ]
  },
  {
   "cell_type": "code",
   "execution_count": 34,
   "id": "6e56ba00",
   "metadata": {},
   "outputs": [
    {
     "data": {
      "text/html": [
       "<div>\n",
       "<style scoped>\n",
       "    .dataframe tbody tr th:only-of-type {\n",
       "        vertical-align: middle;\n",
       "    }\n",
       "\n",
       "    .dataframe tbody tr th {\n",
       "        vertical-align: top;\n",
       "    }\n",
       "\n",
       "    .dataframe thead th {\n",
       "        text-align: right;\n",
       "    }\n",
       "</style>\n",
       "<table border=\"1\" class=\"dataframe\">\n",
       "  <thead>\n",
       "    <tr style=\"text-align: right;\">\n",
       "      <th></th>\n",
       "      <th>QUAL_freebayes</th>\n",
       "      <th>QUAL_vardict</th>\n",
       "    </tr>\n",
       "  </thead>\n",
       "  <tbody>\n",
       "    <tr>\n",
       "      <th>QUAL_freebayes</th>\n",
       "      <td>1.000000</td>\n",
       "      <td>0.327006</td>\n",
       "    </tr>\n",
       "    <tr>\n",
       "      <th>QUAL_vardict</th>\n",
       "      <td>0.327006</td>\n",
       "      <td>1.000000</td>\n",
       "    </tr>\n",
       "  </tbody>\n",
       "</table>\n",
       "</div>"
      ],
      "text/plain": [
       "                QUAL_freebayes  QUAL_vardict\n",
       "QUAL_freebayes        1.000000      0.327006\n",
       "QUAL_vardict          0.327006      1.000000"
      ]
     },
     "execution_count": 34,
     "metadata": {},
     "output_type": "execute_result"
    }
   ],
   "source": [
    "df_merged_with_truth[[\"QUAL_freebayes\", \"QUAL_vardict\"]].corr()"
   ]
  },
  {
   "cell_type": "markdown",
   "id": "1a999949",
   "metadata": {},
   "source": [
    "#### Visualization"
   ]
  },
  {
   "cell_type": "code",
   "execution_count": 35,
   "id": "c1905327",
   "metadata": {},
   "outputs": [],
   "source": [
    "import matplotlib.pyplot as plt\n",
    "import seaborn as sns"
   ]
  },
  {
   "cell_type": "code",
   "execution_count": 36,
   "id": "7e542cea",
   "metadata": {},
   "outputs": [],
   "source": [
    "from sklearn.decomposition import PCA\n",
    "pca = PCA(n_components=2)"
   ]
  },
  {
   "cell_type": "code",
   "execution_count": 37,
   "id": "3de84bb1",
   "metadata": {},
   "outputs": [
    {
     "data": {
      "text/plain": [
       "(5790219, 2)"
      ]
     },
     "execution_count": 37,
     "metadata": {},
     "output_type": "execute_result"
    }
   ],
   "source": [
    "pca_df = pca.fit_transform(df_merged_with_truth[[\"FILTER_PASS_freebayes\", 'FILTER_PASS_mutect', \"FILTER_PASS_vardict\", \"FILTER_PASS_varscan\"]])\n",
    "pca_df.shape"
   ]
  },
  {
   "cell_type": "code",
   "execution_count": 38,
   "id": "5387a39a",
   "metadata": {},
   "outputs": [],
   "source": [
    "pca_df = pd.DataFrame(pca_df, columns = [\"comp1\", \"comp2\"])\n",
    "pca_df[\"label\"] = df_merged_with_truth[\"truth\"]"
   ]
  },
  {
   "cell_type": "code",
   "execution_count": 39,
   "id": "288a26a3",
   "metadata": {},
   "outputs": [
    {
     "data": {
      "text/html": [
       "<div>\n",
       "<style scoped>\n",
       "    .dataframe tbody tr th:only-of-type {\n",
       "        vertical-align: middle;\n",
       "    }\n",
       "\n",
       "    .dataframe tbody tr th {\n",
       "        vertical-align: top;\n",
       "    }\n",
       "\n",
       "    .dataframe thead th {\n",
       "        text-align: right;\n",
       "    }\n",
       "</style>\n",
       "<table border=\"1\" class=\"dataframe\">\n",
       "  <thead>\n",
       "    <tr style=\"text-align: right;\">\n",
       "      <th></th>\n",
       "      <th>comp1</th>\n",
       "      <th>comp2</th>\n",
       "      <th>label</th>\n",
       "    </tr>\n",
       "  </thead>\n",
       "  <tbody>\n",
       "    <tr>\n",
       "      <th>0</th>\n",
       "      <td>0.143949</td>\n",
       "      <td>1.414000</td>\n",
       "      <td>True</td>\n",
       "    </tr>\n",
       "    <tr>\n",
       "      <th>1</th>\n",
       "      <td>1.139042</td>\n",
       "      <td>1.324025</td>\n",
       "      <td>True</td>\n",
       "    </tr>\n",
       "    <tr>\n",
       "      <th>2</th>\n",
       "      <td>0.143949</td>\n",
       "      <td>1.414000</td>\n",
       "      <td>True</td>\n",
       "    </tr>\n",
       "    <tr>\n",
       "      <th>3</th>\n",
       "      <td>0.143949</td>\n",
       "      <td>1.414000</td>\n",
       "      <td>True</td>\n",
       "    </tr>\n",
       "    <tr>\n",
       "      <th>4</th>\n",
       "      <td>1.069692</td>\n",
       "      <td>0.980650</td>\n",
       "      <td>True</td>\n",
       "    </tr>\n",
       "  </tbody>\n",
       "</table>\n",
       "</div>"
      ],
      "text/plain": [
       "      comp1     comp2 label\n",
       "0  0.143949  1.414000  True\n",
       "1  1.139042  1.324025  True\n",
       "2  0.143949  1.414000  True\n",
       "3  0.143949  1.414000  True\n",
       "4  1.069692  0.980650  True"
      ]
     },
     "execution_count": 39,
     "metadata": {},
     "output_type": "execute_result"
    }
   ],
   "source": [
    "pca_df.head()"
   ]
  },
  {
   "cell_type": "code",
   "execution_count": 40,
   "id": "e6a2b06b",
   "metadata": {},
   "outputs": [
    {
     "data": {
      "text/plain": [
       "False    5788900\n",
       "True        1308\n",
       "Name: label, dtype: int64"
      ]
     },
     "execution_count": 40,
     "metadata": {},
     "output_type": "execute_result"
    }
   ],
   "source": [
    "pca_df[\"label\"].value_counts()"
   ]
  },
  {
   "cell_type": "code",
   "execution_count": 44,
   "id": "e3ae09aa",
   "metadata": {},
   "outputs": [
    {
     "data": {
      "text/plain": [
       "<AxesSubplot:xlabel='comp1', ylabel='comp2'>"
      ]
     },
     "execution_count": 44,
     "metadata": {},
     "output_type": "execute_result"
    },
    {
     "data": {
      "image/png": "[encoded data removed]",
      "text/plain": [
       "<Figure size 432x288 with 1 Axes>"
      ]
     },
     "metadata": {
      "needs_background": "light"
     },
     "output_type": "display_data"
    }
   ],
   "source": [
    "sns.scatterplot(data = pca_df[pca_df[\"label\"] == 0], x = \"comp1\", y = \"comp2\", marker=\"o\")\n",
    "sns.scatterplot(data = pca_df[pca_df[\"label\"] == 1], x = \"comp1\", y = \"comp2\", marker=\"x\")"
   ]
  },
  {
   "cell_type": "code",
   "execution_count": 51,
   "id": "6c4d70f9",
   "metadata": {},
   "outputs": [
    {
     "data": {
      "text/plain": [
       "Text(0.5, 1.0, 'Correlation between outcomes of 4 variant callers and truth label - Real 1 dataset')"
      ]
     },
     "execution_count": 51,
     "metadata": {},
     "output_type": "execute_result"
    },
    {
     "data": {
      "image/png": "[encoded data removed]",
      "text/plain": [
       "<Figure size 432x288 with 2 Axes>"
      ]
     },
     "metadata": {
      "needs_background": "light"
     },
     "output_type": "display_data"
    }
   ],
   "source": [
    "sns.heatmap(df_merged_with_truth[[\"FILTER_PASS_freebayes\", 'FILTER_PASS_mutect', \"FILTER_PASS_vardict\", \"FILTER_PASS_varscan\", \"truth\"]].astype(int).corr(), annot=True, vmin=-1, vmax=1)\n",
    "plt.title(\"Correlation between outcomes of 4 variant callers and truth label - Real 1 dataset\")"
   ]
  },
  {
   "cell_type": "code",
   "execution_count": 53,
   "id": "2d002d73",
   "metadata": {},
   "outputs": [],
   "source": [
    "from scipy.stats import chi2_contingency\n",
    "from sklearn.metrics import confusion_matrix\n",
    "chi2_fb, _,_,_ = chi2_contingency(confusion_matrix(list(df_merged_with_truth.truth), list(df_merged_with_truth.FILTER_PASS_freebayes)))\n",
    "chi2_mu, _,_,_ = chi2_contingency(confusion_matrix(list(df_merged_with_truth.truth), list(df_merged_with_truth.FILTER_PASS_mutect)))\n",
    "chi2_vd, _,_,_ = chi2_contingency(confusion_matrix(list(df_merged_with_truth.truth), list(df_merged_with_truth.FILTER_PASS_vardict)))\n",
    "chi2_vs, _,_,_ = chi2_contingency(confusion_matrix(list(df_merged_with_truth.truth), list(df_merged_with_truth.FILTER_PASS_varscan)))"
   ]
  },
  {
   "cell_type": "code",
   "execution_count": 65,
   "id": "add14103",
   "metadata": {},
   "outputs": [
    {
     "name": "stdout",
     "output_type": "stream",
     "text": [
      "Freebayes\n"
     ]
    },
    {
     "data": {
      "text/plain": [
       "(427973.33481017797,\n",
       " 0.0,\n",
       " 1,\n",
       " array([[5.77554402e+06, 1.33669797e+04],\n",
       "        [1.30497974e+03, 3.02025882e+00]]))"
      ]
     },
     "execution_count": 65,
     "metadata": {},
     "output_type": "execute_result"
    }
   ],
   "source": [
    "print(\"Freebayes\")\n",
    "chi2_contingency(confusion_matrix(list(df_merged_with_truth.truth), list(df_merged_with_truth.FILTER_PASS_freebayes)))"
   ]
  },
  {
   "cell_type": "code",
   "execution_count": 66,
   "id": "07113d1e",
   "metadata": {},
   "outputs": [
    {
     "name": "stdout",
     "output_type": "stream",
     "text": [
      "Mutect\n"
     ]
    },
    {
     "data": {
      "text/plain": [
       "(921857.2129482182,\n",
       " 0.0,\n",
       " 1,\n",
       " array([[5.78177961e+06, 7.13138867e+03],\n",
       "        [1.30638867e+03, 1.61133180e+00]]))"
      ]
     },
     "execution_count": 66,
     "metadata": {},
     "output_type": "execute_result"
    }
   ],
   "source": [
    "print(\"Mutect\")\n",
    "chi2_contingency(confusion_matrix(list(df_merged_with_truth.truth), list(df_merged_with_truth.FILTER_PASS_mutect)))"
   ]
  },
  {
   "cell_type": "code",
   "execution_count": 67,
   "id": "062bb31f",
   "metadata": {},
   "outputs": [
    {
     "name": "stdout",
     "output_type": "stream",
     "text": [
      "Vardict\n"
     ]
    },
    {
     "data": {
      "text/plain": [
       "(303510.91282570426,\n",
       " 0.0,\n",
       " 1,\n",
       " array([[5.76982031e+06, 1.90906865e+04],\n",
       "        [1.30368647e+03, 4.31352597e+00]]))"
      ]
     },
     "execution_count": 67,
     "metadata": {},
     "output_type": "execute_result"
    }
   ],
   "source": [
    "print(\"Vardict\")\n",
    "chi2_contingency(confusion_matrix(list(df_merged_with_truth.truth), list(df_merged_with_truth.FILTER_PASS_vardict)))"
   ]
  },
  {
   "cell_type": "code",
   "execution_count": 68,
   "id": "fe3f0797",
   "metadata": {},
   "outputs": [
    {
     "name": "stdout",
     "output_type": "stream",
     "text": [
      "Varscan\n"
     ]
    },
    {
     "data": {
      "text/plain": [
       "(3952.5033603620814,\n",
       " 0.0,\n",
       " 1,\n",
       " array([[5.72572428e+06, 6.31867230e+04],\n",
       "        [1.29372301e+03, 1.42769916e+01]]))"
      ]
     },
     "execution_count": 68,
     "metadata": {},
     "output_type": "execute_result"
    }
   ],
   "source": [
    "print(\"Varscan\")\n",
    "chi2_contingency(confusion_matrix(list(df_merged_with_truth.truth), list(df_merged_with_truth.FILTER_PASS_varscan)))"
   ]
  },
  {
   "cell_type": "markdown",
   "id": "cb421cf5",
   "metadata": {},
   "source": [
    "#### Confusion matrix comparing against truth"
   ]
  },
  {
   "cell_type": "code",
   "execution_count": 69,
   "id": "f64db24e",
   "metadata": {},
   "outputs": [],
   "source": [
    "from sklearn.metrics import confusion_matrix"
   ]
  },
  {
   "cell_type": "code",
   "execution_count": 70,
   "id": "be33b2f8",
   "metadata": {},
   "outputs": [
    {
     "data": {
      "text/plain": [
       "(5776680, 12231, 169, 1139)"
      ]
     },
     "execution_count": 70,
     "metadata": {},
     "output_type": "execute_result"
    }
   ],
   "source": [
    "tn, fp, fn, tp = confusion_matrix(list(df_merged_with_truth.truth), list(df_merged_with_truth.FILTER_PASS_freebayes)).ravel()\n",
    "tn, fp, fn, tp"
   ]
  },
  {
   "cell_type": "code",
   "execution_count": 71,
   "id": "7b7f0439",
   "metadata": {},
   "outputs": [
    {
     "data": {
      "text/plain": [
       "(5782998, 5913, 88, 1220)"
      ]
     },
     "execution_count": 71,
     "metadata": {},
     "output_type": "execute_result"
    }
   ],
   "source": [
    "# least false positives\n",
    "tn, fp, fn, tp = confusion_matrix(list(df_merged_with_truth.truth), list(df_merged_with_truth.FILTER_PASS_mutect)).ravel()\n",
    "tn, fp, fn, tp"
   ]
  },
  {
   "cell_type": "code",
   "execution_count": 72,
   "id": "bdae72b5",
   "metadata": {},
   "outputs": [
    {
     "data": {
      "text/plain": [
       "(5770963, 17948, 161, 1147)"
      ]
     },
     "execution_count": 72,
     "metadata": {},
     "output_type": "execute_result"
    }
   ],
   "source": [
    "tn, fp, fn, tp = confusion_matrix(list(df_merged_with_truth.truth), list(df_merged_with_truth.FILTER_PASS_vardict)).ravel()\n",
    "tn, fp, fn, tp"
   ]
  },
  {
   "cell_type": "code",
   "execution_count": 73,
   "id": "ffe505a9",
   "metadata": {},
   "outputs": [
    {
     "data": {
      "text/plain": [
       "(5725961, 62950, 1057, 251)"
      ]
     },
     "execution_count": 73,
     "metadata": {},
     "output_type": "execute_result"
    }
   ],
   "source": [
    "tn, fp, fn, tp = confusion_matrix(list(df_merged_with_truth.truth), list(df_merged_with_truth.FILTER_PASS_varscan)).ravel()\n",
    "tn, fp, fn, tp"
   ]
  },
  {
   "cell_type": "code",
   "execution_count": null,
   "id": "45f7f9c0",
   "metadata": {},
   "outputs": [],
   "source": [
    "def predict_label_three_best(row):\n",
    "    if row[\"FILTER_PASS_mutect\"] == False:\n",
    "        return False\n",
    "    if int(row[\"FILTER_PASS_freebayes\"]) + int(row[\"FILTER_PASS_vardict\"]) + int(row[\"FILTER_PASS_varscan\"]) >= 2:\n",
    "        return True\n",
    "    return False"
   ]
  },
  {
   "cell_type": "code",
   "execution_count": null,
   "id": "d18a8eec",
   "metadata": {},
   "outputs": [],
   "source": [
    "df_merged_with_truth[\"three_best_mutect_true\"] = df_merged_with_truth[[\"FILTER_PASS_freebayes\", \"FILTER_PASS_mutect\", \"FILTER_PASS_vardict\", \"FILTER_PASS_varscan\"]].apply(predict_label_three_best, axis = 1)"
   ]
  },
  {
   "cell_type": "code",
   "execution_count": null,
   "id": "421658e4",
   "metadata": {},
   "outputs": [],
   "source": [
    "from sklearn.model_selection import train_test_split\n",
    "X_train, X_test, y_train, y_test = train_test_split(df_merged_with_truth[[\"FILTER_PASS_mutect\", \"FILTER_PASS_freebayes\", \"FILTER_PASS_vardict\", \"FILTER_PASS_varscan\"]], df_merged_with_truth[\"truth\"], test_size = 0.2, random_state=42)\n",
    "print(X_train.shape)\n",
    "print(X_test.shape)\n",
    "print(y_train.shape)\n",
    "print(y_test.shape)"
   ]
  },
  {
   "cell_type": "code",
   "execution_count": 43,
   "id": "0577114c",
   "metadata": {},
   "outputs": [],
   "source": [
    "from pgmpy.models import BayesianNetwork"
   ]
  },
  {
   "cell_type": "code",
   "execution_count": 44,
   "id": "671cdfda",
   "metadata": {},
   "outputs": [],
   "source": [
    "bn = BayesianNetwork(\n",
    "[\n",
    "#     (\"CHROM\", \"truth\"),\n",
    "#     (\"POS\", \"truth\"),\n",
    "#     (\"QUAL_freebayes\", \"truth\"),\n",
    "#     (\"QUAL_vardict\", \"truth\"),\n",
    "    (\"FILTER_PASS_mutect\", \"truth\"),\n",
    "    (\"FILTER_PASS_freebayes\", \"truth\"),\n",
    "    (\"FILTER_PASS_vardict\", \"truth\"),\n",
    "    (\"FILTER_PASS_varscan\", \"truth\"),\n",
    "])"
   ]
  },
  {
   "cell_type": "code",
   "execution_count": 45,
   "id": "b16a7995",
   "metadata": {},
   "outputs": [],
   "source": [
    "from pgmpy.estimators import MaximumLikelihoodEstimator"
   ]
  },
  {
   "cell_type": "code",
   "execution_count": 46,
   "id": "ca3bb2a6",
   "metadata": {},
   "outputs": [
    {
     "name": "stdout",
     "output_type": "stream",
     "text": [
      "(4632175, 5)\n"
     ]
    },
    {
     "data": {
      "text/html": [
       "<div>\n",
       "<style scoped>\n",
       "    .dataframe tbody tr th:only-of-type {\n",
       "        vertical-align: middle;\n",
       "    }\n",
       "\n",
       "    .dataframe tbody tr th {\n",
       "        vertical-align: top;\n",
       "    }\n",
       "\n",
       "    .dataframe thead th {\n",
       "        text-align: right;\n",
       "    }\n",
       "</style>\n",
       "<table border=\"1\" class=\"dataframe\">\n",
       "  <thead>\n",
       "    <tr style=\"text-align: right;\">\n",
       "      <th></th>\n",
       "      <th>FILTER_PASS_mutect</th>\n",
       "      <th>FILTER_PASS_freebayes</th>\n",
       "      <th>FILTER_PASS_vardict</th>\n",
       "      <th>FILTER_PASS_varscan</th>\n",
       "      <th>truth</th>\n",
       "    </tr>\n",
       "  </thead>\n",
       "  <tbody>\n",
       "    <tr>\n",
       "      <th>1702698</th>\n",
       "      <td>False</td>\n",
       "      <td>False</td>\n",
       "      <td>False</td>\n",
       "      <td>False</td>\n",
       "      <td>False</td>\n",
       "    </tr>\n",
       "    <tr>\n",
       "      <th>4007430</th>\n",
       "      <td>False</td>\n",
       "      <td>False</td>\n",
       "      <td>False</td>\n",
       "      <td>False</td>\n",
       "      <td>False</td>\n",
       "    </tr>\n",
       "    <tr>\n",
       "      <th>1632922</th>\n",
       "      <td>False</td>\n",
       "      <td>False</td>\n",
       "      <td>False</td>\n",
       "      <td>False</td>\n",
       "      <td>False</td>\n",
       "    </tr>\n",
       "    <tr>\n",
       "      <th>2382596</th>\n",
       "      <td>False</td>\n",
       "      <td>False</td>\n",
       "      <td>False</td>\n",
       "      <td>False</td>\n",
       "      <td>False</td>\n",
       "    </tr>\n",
       "    <tr>\n",
       "      <th>2978855</th>\n",
       "      <td>False</td>\n",
       "      <td>False</td>\n",
       "      <td>False</td>\n",
       "      <td>False</td>\n",
       "      <td>False</td>\n",
       "    </tr>\n",
       "  </tbody>\n",
       "</table>\n",
       "</div>"
      ],
      "text/plain": [
       "        FILTER_PASS_mutect FILTER_PASS_freebayes FILTER_PASS_vardict  \\\n",
       "1702698              False                 False               False   \n",
       "4007430              False                 False               False   \n",
       "1632922              False                 False               False   \n",
       "2382596              False                 False               False   \n",
       "2978855              False                 False               False   \n",
       "\n",
       "        FILTER_PASS_varscan  truth  \n",
       "1702698               False  False  \n",
       "4007430               False  False  \n",
       "1632922               False  False  \n",
       "2382596               False  False  \n",
       "2978855               False  False  "
      ]
     },
     "execution_count": 46,
     "metadata": {},
     "output_type": "execute_result"
    }
   ],
   "source": [
    "train_df = pd.DataFrame(X_train, columns = [\"FILTER_PASS_mutect\",\"FILTER_PASS_freebayes\", \"FILTER_PASS_vardict\", \"FILTER_PASS_varscan\"])\n",
    "train_df[\"truth\"] = y_train\n",
    "print(train_df.shape)\n",
    "train_df.head()"
   ]
  },
  {
   "cell_type": "code",
   "execution_count": 47,
   "id": "f3afce4b",
   "metadata": {},
   "outputs": [],
   "source": [
    "bn.fit(\n",
    "    data=train_df,\n",
    "    estimator=MaximumLikelihoodEstimator\n",
    ")"
   ]
  },
  {
   "cell_type": "code",
   "execution_count": 48,
   "id": "cd1bd8ff",
   "metadata": {},
   "outputs": [
    {
     "name": "stdout",
     "output_type": "stream",
     "text": [
      "+-----------------------+-----+-----------------------------+\n",
      "| FILTER_PASS_freebayes | ... | FILTER_PASS_freebayes(True) |\n",
      "+-----------------------+-----+-----------------------------+\n",
      "| FILTER_PASS_mutect    | ... | FILTER_PASS_mutect(True)    |\n",
      "+-----------------------+-----+-----------------------------+\n",
      "| FILTER_PASS_vardict   | ... | FILTER_PASS_vardict(True)   |\n",
      "+-----------------------+-----+-----------------------------+\n",
      "| FILTER_PASS_varscan   | ... | FILTER_PASS_varscan(True)   |\n",
      "+-----------------------+-----+-----------------------------+\n",
      "| truth(False)          | ... | 0.375                       |\n",
      "+-----------------------+-----+-----------------------------+\n",
      "| truth(True)           | ... | 0.625                       |\n",
      "+-----------------------+-----+-----------------------------+\n"
     ]
    }
   ],
   "source": [
    "print(bn.get_cpds(\"truth\"))"
   ]
  },
  {
   "cell_type": "code",
   "execution_count": 49,
   "id": "40c1ac38",
   "metadata": {},
   "outputs": [
    {
     "name": "stdout",
     "output_type": "stream",
     "text": [
      "(1158044, 5)\n"
     ]
    },
    {
     "data": {
      "text/html": [
       "<div>\n",
       "<style scoped>\n",
       "    .dataframe tbody tr th:only-of-type {\n",
       "        vertical-align: middle;\n",
       "    }\n",
       "\n",
       "    .dataframe tbody tr th {\n",
       "        vertical-align: top;\n",
       "    }\n",
       "\n",
       "    .dataframe thead th {\n",
       "        text-align: right;\n",
       "    }\n",
       "</style>\n",
       "<table border=\"1\" class=\"dataframe\">\n",
       "  <thead>\n",
       "    <tr style=\"text-align: right;\">\n",
       "      <th></th>\n",
       "      <th>FILTER_PASS_mutect</th>\n",
       "      <th>FILTER_PASS_freebayes</th>\n",
       "      <th>FILTER_PASS_vardict</th>\n",
       "      <th>FILTER_PASS_varscan</th>\n",
       "      <th>truth</th>\n",
       "    </tr>\n",
       "  </thead>\n",
       "  <tbody>\n",
       "    <tr>\n",
       "      <th>359077</th>\n",
       "      <td>False</td>\n",
       "      <td>False</td>\n",
       "      <td>False</td>\n",
       "      <td>False</td>\n",
       "      <td>False</td>\n",
       "    </tr>\n",
       "    <tr>\n",
       "      <th>5016218</th>\n",
       "      <td>False</td>\n",
       "      <td>False</td>\n",
       "      <td>False</td>\n",
       "      <td>False</td>\n",
       "      <td>False</td>\n",
       "    </tr>\n",
       "    <tr>\n",
       "      <th>4612769</th>\n",
       "      <td>False</td>\n",
       "      <td>False</td>\n",
       "      <td>False</td>\n",
       "      <td>False</td>\n",
       "      <td>False</td>\n",
       "    </tr>\n",
       "    <tr>\n",
       "      <th>1484341</th>\n",
       "      <td>False</td>\n",
       "      <td>False</td>\n",
       "      <td>False</td>\n",
       "      <td>False</td>\n",
       "      <td>False</td>\n",
       "    </tr>\n",
       "    <tr>\n",
       "      <th>2266757</th>\n",
       "      <td>False</td>\n",
       "      <td>False</td>\n",
       "      <td>False</td>\n",
       "      <td>False</td>\n",
       "      <td>False</td>\n",
       "    </tr>\n",
       "  </tbody>\n",
       "</table>\n",
       "</div>"
      ],
      "text/plain": [
       "        FILTER_PASS_mutect FILTER_PASS_freebayes FILTER_PASS_vardict  \\\n",
       "359077               False                 False               False   \n",
       "5016218              False                 False               False   \n",
       "4612769              False                 False               False   \n",
       "1484341              False                 False               False   \n",
       "2266757              False                 False               False   \n",
       "\n",
       "        FILTER_PASS_varscan  truth  \n",
       "359077                False  False  \n",
       "5016218               False  False  \n",
       "4612769               False  False  \n",
       "1484341               False  False  \n",
       "2266757               False  False  "
      ]
     },
     "execution_count": 49,
     "metadata": {},
     "output_type": "execute_result"
    }
   ],
   "source": [
    "test_df = pd.DataFrame(X_test, columns = [\"FILTER_PASS_mutect\",\"FILTER_PASS_freebayes\", \"FILTER_PASS_vardict\", \"FILTER_PASS_varscan\"])\n",
    "test_df[\"truth\"] = y_test\n",
    "print(test_df.shape)\n",
    "test_df.head()"
   ]
  },
  {
   "cell_type": "code",
   "execution_count": 50,
   "id": "bc792652",
   "metadata": {},
   "outputs": [],
   "source": [
    "from pgmpy.inference import VariableElimination\n",
    "from ipywidgets import FloatProgress"
   ]
  },
  {
   "cell_type": "code",
   "execution_count": 51,
   "id": "eb249bac",
   "metadata": {},
   "outputs": [],
   "source": [
    "bn_infer = VariableElimination(bn)"
   ]
  },
  {
   "cell_type": "code",
   "execution_count": 52,
   "id": "dc8e68ad",
   "metadata": {},
   "outputs": [],
   "source": [
    "from IPython.display import clear_output"
   ]
  },
  {
   "cell_type": "code",
   "execution_count": 53,
   "id": "525a9ad7",
   "metadata": {},
   "outputs": [],
   "source": [
    "def get_preds(row):\n",
    "    prob = bn_infer.query(variables=[\"truth\"], evidence={\"FILTER_PASS_freebayes\": row[\"FILTER_PASS_freebayes\"], \\\n",
    "                                             \"FILTER_PASS_mutect\": row[\"FILTER_PASS_mutect\"], \\\n",
    "                                             \"FILTER_PASS_vardict\": row[\"FILTER_PASS_vardict\"], \\\n",
    "                                             \"FILTER_PASS_varscan\": row[\"FILTER_PASS_varscan\"]}, show_progress=False)\n",
    "#     clear_output(wait=True)\n",
    "    if (prob.values[1]) > 0.5:\n",
    "        return True\n",
    "    else:\n",
    "        return False"
   ]
  },
  {
   "cell_type": "code",
   "execution_count": 54,
   "id": "6bb9b40f",
   "metadata": {},
   "outputs": [],
   "source": [
    "test_df[\"preds\"] = test_df.apply(get_preds, axis = 1)"
   ]
  },
  {
   "cell_type": "markdown",
   "id": "01c0337e",
   "metadata": {},
   "source": [
    "#### Metric evaluation"
   ]
  },
  {
   "cell_type": "code",
   "execution_count": 55,
   "id": "35006636",
   "metadata": {},
   "outputs": [],
   "source": [
    "from sklearn.metrics import f1_score, precision_score, recall_score"
   ]
  },
  {
   "cell_type": "code",
   "execution_count": 56,
   "id": "b5d28091",
   "metadata": {},
   "outputs": [],
   "source": [
    "from sklearn.metrics import classification_report"
   ]
  },
  {
   "cell_type": "code",
   "execution_count": 57,
   "id": "7b622e53",
   "metadata": {},
   "outputs": [
    {
     "name": "stdout",
     "output_type": "stream",
     "text": [
      "              precision    recall  f1-score   support\n",
      "\n",
      "       False       1.00      1.00      1.00   5788911\n",
      "        True       0.72      0.83      0.78      1308\n",
      "\n",
      "    accuracy                           1.00   5790219\n",
      "   macro avg       0.86      0.92      0.89   5790219\n",
      "weighted avg       1.00      1.00      1.00   5790219\n",
      "\n"
     ]
    }
   ],
   "source": [
    "print(classification_report(df_merged_with_truth[\"truth\"], df_merged_with_truth[\"three_best_mutect_true\"]))"
   ]
  },
  {
   "cell_type": "code",
   "execution_count": 58,
   "id": "69d962b6",
   "metadata": {},
   "outputs": [
    {
     "name": "stdout",
     "output_type": "stream",
     "text": [
      "              precision    recall  f1-score   support\n",
      "\n",
      "       False       1.00      1.00      1.00   1157769\n",
      "        True       0.84      0.78      0.81       275\n",
      "\n",
      "    accuracy                           1.00   1158044\n",
      "   macro avg       0.92      0.89      0.90   1158044\n",
      "weighted avg       1.00      1.00      1.00   1158044\n",
      "\n"
     ]
    }
   ],
   "source": [
    "print(classification_report(test_df[\"truth\"], test_df[\"preds\"]))"
   ]
  },
  {
   "cell_type": "code",
   "execution_count": 67,
   "id": "c73be726",
   "metadata": {},
   "outputs": [
    {
     "data": {
      "text/plain": [
       "(5790219, 34)"
      ]
     },
     "execution_count": 67,
     "metadata": {},
     "output_type": "execute_result"
    }
   ],
   "source": [
    "df_merged_with_truth.shape"
   ]
  },
  {
   "cell_type": "code",
   "execution_count": 68,
   "id": "84402c99",
   "metadata": {},
   "outputs": [],
   "source": [
    "df_merged_with_truth.to_pickle(\"real1_merged.pkl\")"
   ]
  },
  {
   "cell_type": "code",
   "execution_count": null,
   "id": "eac19170",
   "metadata": {},
   "outputs": [],
   "source": []
  }
 ],
 "metadata": {
  "kernelspec": {
   "display_name": "Python 3 (ipykernel)",
   "language": "python",
   "name": "python3"
  },
  "language_info": {
   "codemirror_mode": {
    "name": "ipython",
    "version": 3
   },
   "file_extension": ".py",
   "mimetype": "text/x-python",
   "name": "python",
   "nbconvert_exporter": "python",
   "pygments_lexer": "ipython3",
   "version": "3.7.11"
  }
 },
 "nbformat": 4,
 "nbformat_minor": 5
}
