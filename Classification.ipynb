{
  "cells": [
    {
      "cell_type": "markdown",
      "id": "e461764f-bbe8-418a-9ff4-f8f338f372e5",
      "metadata": {
        "id": "e461764f-bbe8-418a-9ff4-f8f338f372e5"
      },
      "source": [
        "# Classification Approach"
      ]
    },
    {
      "cell_type": "markdown",
      "id": "b27d344f-8b13-466f-a784-953224f0f938",
      "metadata": {
        "id": "b27d344f-8b13-466f-a784-953224f0f938"
      },
      "source": [
        "## 1 Imports and Config"
      ]
    },
    {
      "cell_type": "markdown",
      "id": "7b97d4e5-0e22-4fad-adb5-d39148998eab",
      "metadata": {
        "id": "7b97d4e5-0e22-4fad-adb5-d39148998eab"
      },
      "source": [
        "### 1.1 Imports"
      ]
    },
    {
      "cell_type": "code",
      "source": [
        "!pip install scikit-allel"
      ],
      "metadata": {
        "colab": {
          "base_uri": "https://localhost:8080/"
        },
        "id": "U-UjUP02Ynzh",
        "outputId": "37e3b52b-57e6-440e-9d88-e1ba92ff70c1"
      },
      "id": "U-UjUP02Ynzh",
      "execution_count": null,
      "outputs": [
        {
          "output_type": "stream",
          "name": "stdout",
          "text": [
            "Requirement already satisfied: scikit-allel in /usr/local/lib/python3.7/dist-packages (1.3.5)\n",
            "Requirement already satisfied: dask[array] in /usr/local/lib/python3.7/dist-packages (from scikit-allel) (2.12.0)\n",
            "Requirement already satisfied: numpy in /usr/local/lib/python3.7/dist-packages (from scikit-allel) (1.21.5)\n",
            "Requirement already satisfied: toolz>=0.7.3 in /usr/local/lib/python3.7/dist-packages (from dask[array]->scikit-allel) (0.11.2)\n"
          ]
        }
      ]
    },
    {
      "cell_type": "code",
      "execution_count": null,
      "id": "a41a7916-ccc6-41bc-9abf-671147152bac",
      "metadata": {
        "id": "a41a7916-ccc6-41bc-9abf-671147152bac"
      },
      "outputs": [],
      "source": [
        "import os\n",
        "import allel\n",
        "import pickle\n",
        "\n",
        "import json\n",
        "import functools\n",
        "import numpy as np\n",
        "import pandas as pd\n",
        "import matplotlib.pyplot as plt\n",
        "\n",
        "import scipy\n",
        "\n",
        "from google.colab import drive\n",
        "\n",
        "from sklearn.svm import SVC\n",
        "from sklearn.ensemble import RandomForestClassifier\n",
        "from sklearn.model_selection import train_test_split \n",
        "from sklearn.metrics import f1_score, precision_score, recall_score, confusion_matrix, classification_report"
      ]
    },
    {
      "cell_type": "code",
      "source": [
        "drive.mount('/content/gdrive')"
      ],
      "metadata": {
        "colab": {
          "base_uri": "https://localhost:8080/"
        },
        "id": "R6moxY_UYwqX",
        "outputId": "eb403efa-31d2-4e07-97d7-d1a298eb3b7c"
      },
      "id": "R6moxY_UYwqX",
      "execution_count": null,
      "outputs": [
        {
          "output_type": "stream",
          "name": "stdout",
          "text": [
            "Mounted at /content/gdrive\n"
          ]
        }
      ]
    },
    {
      "cell_type": "code",
      "source": [
        "os.listdir('gdrive/MyDrive/CS4220_Data')"
      ],
      "metadata": {
        "colab": {
          "base_uri": "https://localhost:8080/"
        },
        "id": "RqnWbjCnY4WH",
        "outputId": "30c836cb-dca6-4642-cae8-e9dfe6e73f90"
      },
      "id": "RqnWbjCnY4WH",
      "execution_count": null,
      "outputs": [
        {
          "output_type": "execute_result",
          "data": {
            "text/plain": [
              "['real1-freebayes.vcf.gz',\n",
              " 'real1-mutect2.vcf.gz',\n",
              " 'real1_truth.bed',\n",
              " 'real1-vardict.vcf.gz',\n",
              " 'real1-varscan.vcf.gz',\n",
              " 'syn1_truth.bed',\n",
              " 'syn1-mutect2.vcf.gz',\n",
              " 'syn1-freebayes.vcf.gz',\n",
              " 'syn1-varscan.vcf.gz',\n",
              " 'syn1-vardict.vcf.gz',\n",
              " 'syn2_truth.bed',\n",
              " 'syn2-freebayes.vcf.gz',\n",
              " 'syn2-mutect2.vcf.gz',\n",
              " 'syn2-vardict.vcf.gz',\n",
              " 'syn2-varscan.vcf.gz',\n",
              " 'syn3_truth.bed',\n",
              " 'syn3-mutect2.vcf.gz',\n",
              " 'syn3-freebayes.vcf.gz',\n",
              " 'syn3-varscan.vcf.gz',\n",
              " 'syn3-vardict.vcf.gz',\n",
              " 'syn4_truth.bed',\n",
              " 'syn4-mutect2.vcf.gz',\n",
              " 'syn4-freebayes.vcf.gz',\n",
              " 'syn4-varscan.vcf.gz',\n",
              " 'syn5_truth.bed',\n",
              " 'syn4-vardict.vcf.gz',\n",
              " 'syn5-mutect2.vcf.gz',\n",
              " 'syn5-freebayes.vcf.gz',\n",
              " 'syn5-vardict.vcf.gz',\n",
              " 'syn5-varscan.vcf.gz',\n",
              " 'real2-mutect2.vcf.gz',\n",
              " 'real2-freebayes.vcf.gz',\n",
              " 'real2_truth.bed',\n",
              " 'real2-varscan.vcf.gz',\n",
              " 'real2-vardict.vcf.gz',\n",
              " 'real3-freebayes.vcf.gz',\n",
              " 'real3-varscan.vcf.gz',\n",
              " 'real3-vardict.vcf.gz',\n",
              " 'real3-mutect2.vcf.gz',\n",
              " 'data.pkl',\n",
              " 'real3_test.bed']"
            ]
          },
          "metadata": {},
          "execution_count": 6
        }
      ]
    },
    {
      "cell_type": "markdown",
      "id": "d06ad93f-9bc7-4811-85a9-1add9be16f35",
      "metadata": {
        "id": "d06ad93f-9bc7-4811-85a9-1add9be16f35"
      },
      "source": [
        "### 1.2 Config"
      ]
    },
    {
      "cell_type": "code",
      "execution_count": null,
      "id": "adb3590f-1a8e-46ee-9e60-4364682f2bef",
      "metadata": {
        "id": "adb3590f-1a8e-46ee-9e60-4364682f2bef"
      },
      "outputs": [],
      "source": [
        "HOME = 'gdrive/MyDrive/CS4220_Data'"
      ]
    },
    {
      "cell_type": "code",
      "execution_count": null,
      "id": "8aff2689-fd44-4e86-b952-dd54d4df9df8",
      "metadata": {
        "id": "8aff2689-fd44-4e86-b952-dd54d4df9df8"
      },
      "outputs": [],
      "source": [
        "datasets = ['real1', 'real2', 'real3', 'syn1', 'syn2', 'syn3', 'syn4', 'syn5']\n",
        "methods = ['freebayes', 'mutect2', 'varscan', 'vardict']\n",
        "dfs = {}"
      ]
    },
    {
      "cell_type": "markdown",
      "id": "8939723d-4635-47f2-af1a-a97169009187",
      "metadata": {
        "id": "8939723d-4635-47f2-af1a-a97169009187"
      },
      "source": [
        "## 2. Get data from files\n",
        "\n",
        "Skip 2.1 and 2.2 if you already have the pickle file."
      ]
    },
    {
      "cell_type": "markdown",
      "id": "5f7c9f95-7d15-43cd-a6a6-bb5619417ba2",
      "metadata": {
        "id": "5f7c9f95-7d15-43cd-a6a6-bb5619417ba2"
      },
      "source": [
        "### 2.1 Load data to dataframe"
      ]
    },
    {
      "cell_type": "code",
      "execution_count": null,
      "id": "2d2009e1-2c48-4897-9e47-f9a3c5ce4a25",
      "metadata": {
        "colab": {
          "base_uri": "https://localhost:8080/"
        },
        "id": "2d2009e1-2c48-4897-9e47-f9a3c5ce4a25",
        "outputId": "284b69c7-fcac-45e4-86b6-6b68156c15f5"
      },
      "outputs": [
        {
          "output_type": "stream",
          "name": "stdout",
          "text": [
            "Read freebayes from real1\n",
            "Read mutect2 from real1\n",
            "Read varscan from real1\n",
            "Read vardict from real1\n",
            "Read freebayes from real2\n",
            "Read mutect2 from real2\n",
            "Read varscan from real2\n",
            "Read vardict from real2\n",
            "Read freebayes from real3\n",
            "Read mutect2 from real3\n",
            "Read varscan from real3\n",
            "Read vardict from real3\n",
            "Read freebayes from syn1\n",
            "Read mutect2 from syn1\n",
            "Read varscan from syn1\n",
            "Read vardict from syn1\n",
            "Read freebayes from syn2\n",
            "Read mutect2 from syn2\n",
            "Read varscan from syn2\n",
            "Read vardict from syn2\n",
            "Read freebayes from syn3\n",
            "Read mutect2 from syn3\n",
            "Read varscan from syn3\n",
            "Read vardict from syn3\n",
            "Read freebayes from syn4\n",
            "Read mutect2 from syn4\n",
            "Read varscan from syn4\n",
            "Read vardict from syn4\n",
            "Read freebayes from syn5\n",
            "Read mutect2 from syn5\n",
            "Read varscan from syn5\n",
            "Read vardict from syn5\n"
          ]
        }
      ],
      "source": [
        "for dataset in datasets:\n",
        "    temp_dfs = {}\n",
        "    for method in methods:\n",
        "        temp_df = allel.vcf_to_dataframe(HOME+'/'+dataset+'-'+method+'.vcf.gz')\n",
        "        temp_dfs[method] = temp_df\n",
        "        print(f'Read {method} from {dataset}')\n",
        "    merged = temp_dfs['freebayes'][['CHROM', 'POS', 'FILTER_PASS']].merge(temp_dfs['mutect2'][['CHROM', 'POS', 'FILTER_PASS']], \n",
        "                                                   how='outer', on=['CHROM', 'POS'], \n",
        "                                                   suffixes=['_freebayes', '_mutect2']).merge(temp_dfs['vardict'][['CHROM', 'POS', 'FILTER_PASS']], \n",
        "                                                   how='outer', on=['CHROM', 'POS']).merge(temp_dfs['varscan'][['CHROM', 'POS', 'FILTER_PASS']], \n",
        "                                                   how='outer', on=['CHROM', 'POS'], suffixes=['_vardict', '_varscan'])\n",
        "    combined_df = None\n",
        "    if(dataset == 'real3'):\n",
        "        combined_df = merged\n",
        "    else:\n",
        "        truth_df = pd.read_csv(HOME+'/'+dataset+'_truth.bed', delimiter='\\t', header=0, names=['CHROM', 'START_POS', 'END_POS'])\n",
        "        if(dataset == 'real2'):\n",
        "            combined_df = merged.merge(truth_df[['CHROM', 'START_POS']].astype({'CHROM': 'object'}), how='outer', left_on=['CHROM', 'POS'], right_on=['CHROM', 'START_POS'])\n",
        "        else:\n",
        "            combined_df = merged.merge(truth_df[['CHROM', 'START_POS']], how='outer', left_on=['CHROM', 'POS'], right_on=['CHROM', 'START_POS'])\n",
        "        combined_df['y'] = combined_df['START_POS'].notna()\n",
        "        combined_df['y_true'] = combined_df['y'].astype(int) \n",
        "    combined_df['FILTER_PASS_freebayes'] = combined_df['FILTER_PASS_freebayes'].fillna(-1).astype(int)\n",
        "    combined_df['FILTER_PASS_mutect2'] = combined_df['FILTER_PASS_mutect2'].fillna(-1).astype(int)\n",
        "    combined_df['FILTER_PASS_vardict'] = combined_df['FILTER_PASS_vardict'].fillna(-1).astype(int)\n",
        "    combined_df['FILTER_PASS_varscan'] = combined_df['FILTER_PASS_varscan'].fillna(-1).astype(int)\n",
        "    dfs[dataset] = combined_df"
      ]
    },
    {
      "cell_type": "markdown",
      "id": "f0ee381e-7e2d-49ad-b773-235b12831f06",
      "metadata": {
        "id": "f0ee381e-7e2d-49ad-b773-235b12831f06"
      },
      "source": [
        "### 2.2 Save to pickle"
      ]
    },
    {
      "cell_type": "code",
      "execution_count": null,
      "id": "d18d3444-9f54-4f19-8b0b-db715e00508a",
      "metadata": {
        "id": "d18d3444-9f54-4f19-8b0b-db715e00508a"
      },
      "outputs": [],
      "source": [
        "with open(HOME+'/data.pkl', 'wb') as fp:\n",
        "    pickle.dump(dfs, fp, protocol=pickle.HIGHEST_PROTOCOL)"
      ]
    },
    {
      "cell_type": "markdown",
      "id": "7978a507-386e-404a-be49-7ba3b8dc9a8c",
      "metadata": {
        "id": "7978a507-386e-404a-be49-7ba3b8dc9a8c"
      },
      "source": [
        "### 2.3 Load from pickle"
      ]
    },
    {
      "cell_type": "code",
      "execution_count": null,
      "id": "143af7a3-e9e5-4fe0-8d30-6c7de32c049d",
      "metadata": {
        "id": "143af7a3-e9e5-4fe0-8d30-6c7de32c049d"
      },
      "outputs": [],
      "source": [
        "p_data = None\n",
        "with open(HOME+'/data.pkl', 'rb') as fp:\n",
        "    p_data = pickle.load(fp)"
      ]
    },
    {
      "cell_type": "code",
      "execution_count": null,
      "id": "8ce87d72-6df7-49b0-91d9-dfff64c6173e",
      "metadata": {
        "colab": {
          "base_uri": "https://localhost:8080/",
          "height": 206
        },
        "id": "8ce87d72-6df7-49b0-91d9-dfff64c6173e",
        "outputId": "6e1af1a4-9488-4d7c-d14d-cc482bb62c97"
      },
      "outputs": [
        {
          "output_type": "execute_result",
          "data": {
            "text/html": [
              "\n",
              "  <div id=\"df-58cd6375-7d43-4790-aa37-8cefa1f51f6a\">\n",
              "    <div class=\"colab-df-container\">\n",
              "      <div>\n",
              "<style scoped>\n",
              "    .dataframe tbody tr th:only-of-type {\n",
              "        vertical-align: middle;\n",
              "    }\n",
              "\n",
              "    .dataframe tbody tr th {\n",
              "        vertical-align: top;\n",
              "    }\n",
              "\n",
              "    .dataframe thead th {\n",
              "        text-align: right;\n",
              "    }\n",
              "</style>\n",
              "<table border=\"1\" class=\"dataframe\">\n",
              "  <thead>\n",
              "    <tr style=\"text-align: right;\">\n",
              "      <th></th>\n",
              "      <th>CHROM</th>\n",
              "      <th>POS</th>\n",
              "      <th>FILTER_PASS_freebayes</th>\n",
              "      <th>FILTER_PASS_mutect2</th>\n",
              "      <th>FILTER_PASS_vardict</th>\n",
              "      <th>FILTER_PASS_varscan</th>\n",
              "      <th>START_POS</th>\n",
              "      <th>y</th>\n",
              "      <th>y_true</th>\n",
              "    </tr>\n",
              "  </thead>\n",
              "  <tbody>\n",
              "    <tr>\n",
              "      <th>0</th>\n",
              "      <td>1</td>\n",
              "      <td>10177.0</td>\n",
              "      <td>0</td>\n",
              "      <td>-1</td>\n",
              "      <td>-1</td>\n",
              "      <td>0</td>\n",
              "      <td>NaN</td>\n",
              "      <td>False</td>\n",
              "      <td>0</td>\n",
              "    </tr>\n",
              "    <tr>\n",
              "      <th>1</th>\n",
              "      <td>1</td>\n",
              "      <td>10583.0</td>\n",
              "      <td>0</td>\n",
              "      <td>-1</td>\n",
              "      <td>0</td>\n",
              "      <td>0</td>\n",
              "      <td>NaN</td>\n",
              "      <td>False</td>\n",
              "      <td>0</td>\n",
              "    </tr>\n",
              "    <tr>\n",
              "      <th>2</th>\n",
              "      <td>1</td>\n",
              "      <td>12783.0</td>\n",
              "      <td>0</td>\n",
              "      <td>-1</td>\n",
              "      <td>0</td>\n",
              "      <td>0</td>\n",
              "      <td>NaN</td>\n",
              "      <td>False</td>\n",
              "      <td>0</td>\n",
              "    </tr>\n",
              "    <tr>\n",
              "      <th>3</th>\n",
              "      <td>1</td>\n",
              "      <td>13116.0</td>\n",
              "      <td>0</td>\n",
              "      <td>-1</td>\n",
              "      <td>0</td>\n",
              "      <td>-1</td>\n",
              "      <td>NaN</td>\n",
              "      <td>False</td>\n",
              "      <td>0</td>\n",
              "    </tr>\n",
              "    <tr>\n",
              "      <th>4</th>\n",
              "      <td>1</td>\n",
              "      <td>13118.0</td>\n",
              "      <td>0</td>\n",
              "      <td>-1</td>\n",
              "      <td>0</td>\n",
              "      <td>-1</td>\n",
              "      <td>NaN</td>\n",
              "      <td>False</td>\n",
              "      <td>0</td>\n",
              "    </tr>\n",
              "  </tbody>\n",
              "</table>\n",
              "</div>\n",
              "      <button class=\"colab-df-convert\" onclick=\"convertToInteractive('df-58cd6375-7d43-4790-aa37-8cefa1f51f6a')\"\n",
              "              title=\"Convert this dataframe to an interactive table.\"\n",
              "              style=\"display:none;\">\n",
              "        \n",
              "  <svg xmlns=\"http://www.w3.org/2000/svg\" height=\"24px\"viewBox=\"0 0 24 24\"\n",
              "       width=\"24px\">\n",
              "    <path d=\"M0 0h24v24H0V0z\" fill=\"none\"/>\n",
              "    <path d=\"M18.56 5.44l.94 2.06.94-2.06 2.06-.94-2.06-.94-.94-2.06-.94 2.06-2.06.94zm-11 1L8.5 8.5l.94-2.06 2.06-.94-2.06-.94L8.5 2.5l-.94 2.06-2.06.94zm10 10l.94 2.06.94-2.06 2.06-.94-2.06-.94-.94-2.06-.94 2.06-2.06.94z\"/><path d=\"M17.41 7.96l-1.37-1.37c-.4-.4-.92-.59-1.43-.59-.52 0-1.04.2-1.43.59L10.3 9.45l-7.72 7.72c-.78.78-.78 2.05 0 2.83L4 21.41c.39.39.9.59 1.41.59.51 0 1.02-.2 1.41-.59l7.78-7.78 2.81-2.81c.8-.78.8-2.07 0-2.86zM5.41 20L4 18.59l7.72-7.72 1.47 1.35L5.41 20z\"/>\n",
              "  </svg>\n",
              "      </button>\n",
              "      \n",
              "  <style>\n",
              "    .colab-df-container {\n",
              "      display:flex;\n",
              "      flex-wrap:wrap;\n",
              "      gap: 12px;\n",
              "    }\n",
              "\n",
              "    .colab-df-convert {\n",
              "      background-color: #E8F0FE;\n",
              "      border: none;\n",
              "      border-radius: 50%;\n",
              "      cursor: pointer;\n",
              "      display: none;\n",
              "      fill: #1967D2;\n",
              "      height: 32px;\n",
              "      padding: 0 0 0 0;\n",
              "      width: 32px;\n",
              "    }\n",
              "\n",
              "    .colab-df-convert:hover {\n",
              "      background-color: #E2EBFA;\n",
              "      box-shadow: 0px 1px 2px rgba(60, 64, 67, 0.3), 0px 1px 3px 1px rgba(60, 64, 67, 0.15);\n",
              "      fill: #174EA6;\n",
              "    }\n",
              "\n",
              "    [theme=dark] .colab-df-convert {\n",
              "      background-color: #3B4455;\n",
              "      fill: #D2E3FC;\n",
              "    }\n",
              "\n",
              "    [theme=dark] .colab-df-convert:hover {\n",
              "      background-color: #434B5C;\n",
              "      box-shadow: 0px 1px 3px 1px rgba(0, 0, 0, 0.15);\n",
              "      filter: drop-shadow(0px 1px 2px rgba(0, 0, 0, 0.3));\n",
              "      fill: #FFFFFF;\n",
              "    }\n",
              "  </style>\n",
              "\n",
              "      <script>\n",
              "        const buttonEl =\n",
              "          document.querySelector('#df-58cd6375-7d43-4790-aa37-8cefa1f51f6a button.colab-df-convert');\n",
              "        buttonEl.style.display =\n",
              "          google.colab.kernel.accessAllowed ? 'block' : 'none';\n",
              "\n",
              "        async function convertToInteractive(key) {\n",
              "          const element = document.querySelector('#df-58cd6375-7d43-4790-aa37-8cefa1f51f6a');\n",
              "          const dataTable =\n",
              "            await google.colab.kernel.invokeFunction('convertToInteractive',\n",
              "                                                     [key], {});\n",
              "          if (!dataTable) return;\n",
              "\n",
              "          const docLinkHtml = 'Like what you see? Visit the ' +\n",
              "            '<a target=\"_blank\" href=https://colab.research.google.com/notebooks/data_table.ipynb>data table notebook</a>'\n",
              "            + ' to learn more about interactive tables.';\n",
              "          element.innerHTML = '';\n",
              "          dataTable['output_type'] = 'display_data';\n",
              "          await google.colab.output.renderOutput(dataTable, element);\n",
              "          const docLink = document.createElement('div');\n",
              "          docLink.innerHTML = docLinkHtml;\n",
              "          element.appendChild(docLink);\n",
              "        }\n",
              "      </script>\n",
              "    </div>\n",
              "  </div>\n",
              "  "
            ],
            "text/plain": [
              "  CHROM      POS  FILTER_PASS_freebayes  ...  START_POS      y  y_true\n",
              "0     1  10177.0                      0  ...        NaN  False       0\n",
              "1     1  10583.0                      0  ...        NaN  False       0\n",
              "2     1  12783.0                      0  ...        NaN  False       0\n",
              "3     1  13116.0                      0  ...        NaN  False       0\n",
              "4     1  13118.0                      0  ...        NaN  False       0\n",
              "\n",
              "[5 rows x 9 columns]"
            ]
          },
          "metadata": {},
          "execution_count": 10
        }
      ],
      "source": [
        "p_data['real1'].head()"
      ]
    },
    {
      "cell_type": "code",
      "execution_count": null,
      "id": "e0f6b03f-966c-43c7-8d87-0cef94d70bf6",
      "metadata": {
        "colab": {
          "base_uri": "https://localhost:8080/"
        },
        "id": "e0f6b03f-966c-43c7-8d87-0cef94d70bf6",
        "outputId": "73b6b79e-7af9-4917-ca46-78f2002d2d0b"
      },
      "outputs": [
        {
          "output_type": "execute_result",
          "data": {
            "text/plain": [
              "dict_keys(['real1', 'real2', 'real3', 'syn1', 'syn2', 'syn3', 'syn4', 'syn5'])"
            ]
          },
          "metadata": {},
          "execution_count": 11
        }
      ],
      "source": [
        "p_data.keys()"
      ]
    },
    {
      "cell_type": "markdown",
      "id": "92b3b79c-cad9-4e9f-8d42-18dc8599798c",
      "metadata": {
        "id": "92b3b79c-cad9-4e9f-8d42-18dc8599798c"
      },
      "source": [
        "## 3. Classification "
      ]
    },
    {
      "cell_type": "markdown",
      "id": "2eb0be6c-d4ca-4079-ab42-b5de23686dbf",
      "metadata": {
        "id": "2eb0be6c-d4ca-4079-ab42-b5de23686dbf"
      },
      "source": [
        "### 3.1 Config"
      ]
    },
    {
      "cell_type": "code",
      "execution_count": null,
      "id": "e9a2ed71-7e34-4265-938e-5606d1b36b18",
      "metadata": {
        "id": "e9a2ed71-7e34-4265-938e-5606d1b36b18"
      },
      "outputs": [],
      "source": [
        "split_ratio = 0.75\n",
        "seed = 42\n",
        "features = ['FILTER_PASS_freebayes', 'FILTER_PASS_mutect2', 'FILTER_PASS_vardict', 'FILTER_PASS_varscan']\n",
        "target = ['y_true']\n",
        "train_test_sets = ['real1', 'syn1', 'syn2', 'syn3', 'syn4', 'syn5']\n",
        "validation_sets = ['real2']\n",
        "test_sets = ['real3']\n",
        "df = p_data['real1']"
      ]
    },
    {
      "cell_type": "markdown",
      "id": "37fdfd8d-d4a3-4200-8ecc-fa7919289b0d",
      "metadata": {
        "id": "37fdfd8d-d4a3-4200-8ecc-fa7919289b0d"
      },
      "source": [
        "### 3.2 Data preparation"
      ]
    },
    {
      "cell_type": "code",
      "execution_count": null,
      "id": "10876695-e097-48aa-ad4a-2e70f2ea7d95",
      "metadata": {
        "id": "10876695-e097-48aa-ad4a-2e70f2ea7d95"
      },
      "outputs": [],
      "source": [
        "def split_data(df):\n",
        "    X_train, X_test, y_train, y_test = train_test_split(df[features], df[target], train_size = split_ratio, stratify = df[target])\n",
        "    print(X_train.shape)\n",
        "    print(X_test.shape)\n",
        "    print(y_train.shape)\n",
        "    print(y_test.shape)\n",
        "    print(y_train.value_counts().to_dict())\n",
        "    print(y_test.value_counts().to_dict())\n",
        "    return(X_train, X_test, y_train, y_test)"
      ]
    },
    {
      "cell_type": "markdown",
      "id": "8ebb3069-74bc-4bba-ae33-fb20ceb59313",
      "metadata": {
        "id": "8ebb3069-74bc-4bba-ae33-fb20ceb59313"
      },
      "source": [
        "### 3.3 Classifier"
      ]
    },
    {
      "cell_type": "code",
      "execution_count": null,
      "id": "a63d2360-4e97-479c-965b-6e57ce377c6b",
      "metadata": {
        "id": "a63d2360-4e97-479c-965b-6e57ce377c6b"
      },
      "outputs": [],
      "source": [
        "clf = RandomForestClassifier(warm_start = True, random_state=seed, n_estimators = 100)"
      ]
    },
    {
      "cell_type": "code",
      "source": [
        "clf = SVC()"
      ],
      "metadata": {
        "id": "kcxxvetpkg7v"
      },
      "id": "kcxxvetpkg7v",
      "execution_count": null,
      "outputs": []
    },
    {
      "cell_type": "code",
      "execution_count": null,
      "id": "f554b328-69fd-4c92-aec7-be3016ee2ecb",
      "metadata": {
        "colab": {
          "base_uri": "https://localhost:8080/"
        },
        "id": "f554b328-69fd-4c92-aec7-be3016ee2ecb",
        "outputId": "69b8bab7-2c68-4320-ea81-53984b6f18fe"
      },
      "outputs": [
        {
          "output_type": "stream",
          "name": "stdout",
          "text": [
            "(4342672, 4)\n",
            "(1447558, 4)\n",
            "(4342672, 1)\n",
            "(1447558, 1)\n",
            "{(0,): 4341684, (1,): 988}\n",
            "{(0,): 1447228, (1,): 330}\n",
            "(4154334, 4)\n",
            "(1384778, 4)\n",
            "(4154334, 1)\n",
            "(1384778, 1)\n",
            "{(0,): 4151682, (1,): 2652}\n",
            "{(0,): 1383894, (1,): 884}\n",
            "(4337421, 4)\n",
            "(1445807, 4)\n",
            "(4337421, 1)\n",
            "(1445807, 1)\n",
            "{(0,): 4334173, (1,): 3248}\n",
            "{(0,): 1444724, (1,): 1083}\n",
            "(4224917, 4)\n",
            "(1408306, 4)\n",
            "(4224917, 1)\n",
            "(1408306, 1)\n",
            "{(0,): 4218991, (1,): 5926}\n",
            "{(0,): 1406330, (1,): 1976}\n",
            "(3785022, 4)\n",
            "(1261675, 4)\n",
            "(3785022, 1)\n",
            "(1261675, 1)\n",
            "{(0,): 3772787, (1,): 12235}\n",
            "{(0,): 1257596, (1,): 4079}\n",
            "(3733499, 4)\n",
            "(1244500, 4)\n",
            "(3733499, 1)\n",
            "(1244500, 1)\n",
            "{(0,): 3699463, (1,): 34036}\n",
            "{(0,): 1233154, (1,): 11346}\n"
          ]
        }
      ],
      "source": [
        "results = {}\n",
        "for file in train_test_sets:\n",
        "    df = p_data[file]\n",
        "    X_train, X_test, y_train, y_test = split_data(df)\n",
        "    clf.fit(X_train, y_train.values.ravel())\n",
        "    y_pred = clf.predict(X_test)\n",
        "    results[file] = {}\n",
        "    results[file]['Precision'] = precision_score(y_test, y_pred)\n",
        "    results[file]['Recall'] = recall_score(y_test, y_pred)\n",
        "    results[file]['F1 Score'] = f1_score(y_test, y_pred)"
      ]
    },
    {
      "cell_type": "code",
      "source": [
        "# Combine all files together to make one large train and one large test\n",
        "results = {}\n",
        "test_files = {}\n",
        "XA_train = pd.DataFrame()\n",
        "yA_train = pd.DataFrame()\n",
        "for file in train_test_sets:\n",
        "    df = p_data[file]\n",
        "    X_train, X_test, y_train, y_test = split_data(df)\n",
        "    XA_train = XA_train.append(X_train)\n",
        "    yA_train = yA_train.append(y_train)\n",
        "    test_files[file] = {'X': X_test, 'y': y_test}\n",
        "clf.fit(XA_train, yA_train.values.ravel())\n",
        "for file in train_test_sets:\n",
        "    y_pred = clf.predict(test_files[file]['X'])\n",
        "    results[file] = {}\n",
        "    results[file]['Precision'] = precision_score(test_files[file]['y'], y_pred)\n",
        "    results[file]['Recall'] = recall_score(test_files[file]['y'], y_pred)\n",
        "    results[file]['F1 Score'] = f1_score(test_files[file]['y'], y_pred)"
      ],
      "metadata": {
        "colab": {
          "base_uri": "https://localhost:8080/"
        },
        "id": "BW4b1u8bgjhi",
        "outputId": "2e4c0532-a143-448e-96d4-2731be119561"
      },
      "id": "BW4b1u8bgjhi",
      "execution_count": null,
      "outputs": [
        {
          "output_type": "stream",
          "name": "stdout",
          "text": [
            "(4342672, 4)\n",
            "(1447558, 4)\n",
            "(4342672, 1)\n",
            "(1447558, 1)\n",
            "{(0,): 4341684, (1,): 988}\n",
            "{(0,): 1447228, (1,): 330}\n",
            "(4154334, 4)\n",
            "(1384778, 4)\n",
            "(4154334, 1)\n",
            "(1384778, 1)\n",
            "{(0,): 4151682, (1,): 2652}\n",
            "{(0,): 1383894, (1,): 884}\n",
            "(4337421, 4)\n",
            "(1445807, 4)\n",
            "(4337421, 1)\n",
            "(1445807, 1)\n",
            "{(0,): 4334173, (1,): 3248}\n",
            "{(0,): 1444724, (1,): 1083}\n",
            "(4224917, 4)\n",
            "(1408306, 4)\n",
            "(4224917, 1)\n",
            "(1408306, 1)\n",
            "{(0,): 4218991, (1,): 5926}\n",
            "{(0,): 1406330, (1,): 1976}\n",
            "(3785022, 4)\n",
            "(1261675, 4)\n",
            "(3785022, 1)\n",
            "(1261675, 1)\n",
            "{(0,): 3772787, (1,): 12235}\n",
            "{(0,): 1257596, (1,): 4079}\n",
            "(3733499, 4)\n",
            "(1244500, 4)\n",
            "(3733499, 1)\n",
            "(1244500, 1)\n",
            "{(0,): 3699463, (1,): 34036}\n",
            "{(0,): 1233154, (1,): 11346}\n"
          ]
        }
      ]
    },
    {
      "cell_type": "code",
      "execution_count": null,
      "id": "dcc4ec17-370d-4d40-9c73-0432717f9c96",
      "metadata": {
        "colab": {
          "base_uri": "https://localhost:8080/"
        },
        "id": "dcc4ec17-370d-4d40-9c73-0432717f9c96",
        "outputId": "d64a22ea-ae38-4bcb-96e2-e988a9f11e47"
      },
      "outputs": [
        {
          "output_type": "execute_result",
          "data": {
            "text/plain": [
              "{'real1': {'F1 Score': 0.7536656891495602,\n",
              "  'Precision': 0.7301136363636364,\n",
              "  'Recall': 0.7787878787878788},\n",
              " 'syn1': {'F1 Score': 0.932665553700612,\n",
              "  'Precision': 0.9178532311062432,\n",
              "  'Recall': 0.9479638009049773},\n",
              " 'syn2': {'F1 Score': 0.9372384937238493,\n",
              "  'Precision': 0.9438202247191011,\n",
              "  'Recall': 0.9307479224376731},\n",
              " 'syn3': {'F1 Score': 0.7539594021860362,\n",
              "  'Precision': 0.6741124850418827,\n",
              "  'Recall': 0.8552631578947368},\n",
              " 'syn4': {'F1 Score': 0.6205980066445184,\n",
              "  'Precision': 0.6775972141613464,\n",
              "  'Recall': 0.5724442265261094},\n",
              " 'syn5': {'F1 Score': 0.8560828962517592,\n",
              "  'Precision': 0.8292441140024783,\n",
              "  'Recall': 0.8847170809095717}}"
            ]
          },
          "metadata": {},
          "execution_count": 26
        }
      ],
      "source": [
        "results"
      ]
    },
    {
      "cell_type": "code",
      "execution_count": null,
      "id": "579c9bf2-5ac2-4160-8b48-d7cdd9bfe020",
      "metadata": {
        "colab": {
          "base_uri": "https://localhost:8080/",
          "height": 297
        },
        "id": "579c9bf2-5ac2-4160-8b48-d7cdd9bfe020",
        "outputId": "9bfa3391-21d4-44c9-c6b0-0a2e4c5ad6aa"
      },
      "outputs": [
        {
          "output_type": "display_data",
          "data": {
            "image/png": "[encoded data removed]",
            "text/plain": [
              "<Figure size 432x288 with 1 Axes>"
            ]
          },
          "metadata": {
            "needs_background": "light"
          }
        }
      ],
      "source": [
        "feature_names = [x.split('_')[2] for x in X_train.columns]\n",
        "importances = clf.feature_importances_\n",
        "std = np.std([tree.feature_importances_ for tree in clf.estimators_], axis=0)\n",
        "forest_importances = pd.Series(importances, index=feature_names)\n",
        "\n",
        "fig, ax = plt.subplots()\n",
        "forest_importances.plot.bar(yerr=std, ax=ax)\n",
        "ax.set_title(\"Feature importances using MDI\")\n",
        "ax.set_ylabel(\"Mean decrease in impurity\")\n",
        "fig.tight_layout()"
      ]
    },
    {
      "cell_type": "markdown",
      "id": "80c67270-aec1-4d63-8116-2fe852852127",
      "metadata": {
        "id": "80c67270-aec1-4d63-8116-2fe852852127"
      },
      "source": [
        "## Validation"
      ]
    },
    {
      "cell_type": "code",
      "execution_count": null,
      "id": "9fde063a-14de-4200-80d9-953fb8ad2e4c",
      "metadata": {
        "colab": {
          "base_uri": "https://localhost:8080/"
        },
        "id": "9fde063a-14de-4200-80d9-953fb8ad2e4c",
        "outputId": "f8a26cd2-a2b5-4fec-9681-8bdea2a592e0"
      },
      "outputs": [
        {
          "output_type": "execute_result",
          "data": {
            "text/plain": [
              "{'real2': {'F1 Score': 0.6716929403701165,\n",
              "  'Precision': 0.5056759545923633,\n",
              "  'Recall': 1.0}}"
            ]
          },
          "metadata": {},
          "execution_count": 20
        }
      ],
      "source": [
        "val_results = {}\n",
        "for file in validation_sets:\n",
        "    df = p_data[file]\n",
        "    X_test, y_test = df[features], df[target]\n",
        "    y_pred = clf.predict(X_test)\n",
        "    val_results[file] = {}\n",
        "    val_results[file]['Precision'] = precision_score(y_test, y_pred)\n",
        "    val_results[file]['Recall'] = recall_score(y_test, y_pred)\n",
        "    val_results[file]['F1 Score'] = f1_score(y_test, y_pred)\n",
        "val_results"
      ]
    },
    {
      "cell_type": "markdown",
      "id": "f270d942-dd0d-4930-a267-2e855daccc58",
      "metadata": {
        "id": "f270d942-dd0d-4930-a267-2e855daccc58"
      },
      "source": [
        "## Get Predictions"
      ]
    },
    {
      "cell_type": "code",
      "execution_count": null,
      "id": "e3e94f91-4eb2-4f03-adc9-cc0291b01af7",
      "metadata": {
        "id": "e3e94f91-4eb2-4f03-adc9-cc0291b01af7"
      },
      "outputs": [],
      "source": [
        "for file in test_sets:\n",
        "    df = p_data[file]\n",
        "    X_test = df[features]\n",
        "    y_pred = clf.predict(X_test)\n",
        "    df['y_pred'] = y_pred\n",
        "    res_df = df.copy()\n",
        "    res_df = res_df[res_df['y_pred'] == 1]\n",
        "    res_df.drop(['FILTER_PASS_freebayes', 'FILTER_PASS_mutect2', 'FILTER_PASS_vardict', 'FILTER_PASS_varscan', 'y_pred'], axis=1, inplace = True)\n",
        "    res_df.columns = ['CHROM', 'START_POS']\n",
        "    res_df['END_POS'] = res_df['START_POS']\n",
        "    res_df.to_csv(HOME+'/'+file+'_test.bed', sep='\\t')"
      ]
    },
    {
      "cell_type": "code",
      "execution_count": null,
      "id": "25d2594c-0824-400d-b61e-731dc3e717c7",
      "metadata": {
        "id": "25d2594c-0824-400d-b61e-731dc3e717c7"
      },
      "outputs": [],
      "source": [
        ""
      ]
    }
  ],
  "metadata": {
    "kernelspec": {
      "display_name": "Python 3 (ipykernel)",
      "language": "python",
      "name": "python3"
    },
    "language_info": {
      "codemirror_mode": {
        "name": "ipython",
        "version": 3
      },
      "file_extension": ".py",
      "mimetype": "text/x-python",
      "name": "python",
      "nbconvert_exporter": "python",
      "pygments_lexer": "ipython3",
      "version": "3.8.10"
    },
    "colab": {
      "name": "Classification.ipynb",
      "provenance": [],
      "collapsed_sections": []
    },
    "accelerator": "GPU"
  },
  "nbformat": 4,
  "nbformat_minor": 5
}