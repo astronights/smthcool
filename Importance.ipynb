{
  "cells": [
    {
      "cell_type": "markdown",
      "id": "e461764f-bbe8-418a-9ff4-f8f338f372e5",
      "metadata": {
        "id": "e461764f-bbe8-418a-9ff4-f8f338f372e5"
      },
      "source": [
        "# Classification Approach"
      ]
    },
    {
      "cell_type": "markdown",
      "id": "b27d344f-8b13-466f-a784-953224f0f938",
      "metadata": {
        "id": "b27d344f-8b13-466f-a784-953224f0f938"
      },
      "source": [
        "## 1 Imports and Config"
      ]
    },
    {
      "cell_type": "markdown",
      "id": "7b97d4e5-0e22-4fad-adb5-d39148998eab",
      "metadata": {
        "id": "7b97d4e5-0e22-4fad-adb5-d39148998eab"
      },
      "source": [
        "### 1.1 Imports"
      ]
    },
    {
      "cell_type": "code",
      "source": [
        "!pip install scikit-allel\n",
        "\n",
        "import allel"
      ],
      "metadata": {
        "colab": {
          "base_uri": "https://localhost:8080/"
        },
        "id": "U-UjUP02Ynzh",
        "outputId": "154ca2ab-841a-452b-bc2e-9991f2dcb90b"
      },
      "id": "U-UjUP02Ynzh",
      "execution_count": null,
      "outputs": [
        {
          "output_type": "stream",
          "name": "stdout",
          "text": [
            "Requirement already satisfied: scikit-allel in /usr/local/lib/python3.7/dist-packages (1.3.5)\n",
            "Requirement already satisfied: dask[array] in /usr/local/lib/python3.7/dist-packages (from scikit-allel) (2.12.0)\n",
            "Requirement already satisfied: numpy in /usr/local/lib/python3.7/dist-packages (from scikit-allel) (1.21.5)\n",
            "Requirement already satisfied: toolz>=0.7.3 in /usr/local/lib/python3.7/dist-packages (from dask[array]->scikit-allel) (0.11.2)\n"
          ]
        }
      ]
    },
    {
      "cell_type": "code",
      "execution_count": null,
      "id": "a41a7916-ccc6-41bc-9abf-671147152bac",
      "metadata": {
        "id": "a41a7916-ccc6-41bc-9abf-671147152bac"
      },
      "outputs": [],
      "source": [
        "import os\n",
        "import pickle\n",
        "\n",
        "import json\n",
        "import functools\n",
        "import numpy as np\n",
        "import pandas as pd\n",
        "import matplotlib.pyplot as plt\n",
        "\n",
        "import scipy\n",
        "\n",
        "from google.colab import drive\n",
        "\n",
        "from sklearn.svm import SVC\n",
        "from sklearn.decomposition import PCA\n",
        "from sklearn.naive_bayes import GaussianNB\n",
        "from sklearn.neural_network import MLPClassifier\n",
        "from sklearn.linear_model import LogisticRegression, SGDClassifier\n",
        "from sklearn.ensemble import RandomForestClassifier, AdaBoostClassifier\n",
        "from sklearn.model_selection import train_test_split \n",
        "from sklearn.metrics import f1_score, precision_score, recall_score, confusion_matrix, classification_report"
      ]
    },
    {
      "cell_type": "code",
      "source": [
        "drive.mount('/content/gdrive')"
      ],
      "metadata": {
        "colab": {
          "base_uri": "https://localhost:8080/"
        },
        "id": "R6moxY_UYwqX",
        "outputId": "adaedc6e-a8e3-41a5-b950-f8c6a3180da1"
      },
      "id": "R6moxY_UYwqX",
      "execution_count": null,
      "outputs": [
        {
          "output_type": "stream",
          "name": "stdout",
          "text": [
            "Drive already mounted at /content/gdrive; to attempt to forcibly remount, call drive.mount(\"/content/gdrive\", force_remount=True).\n"
          ]
        }
      ]
    },
    {
      "cell_type": "code",
      "source": [
        "os.listdir('gdrive/MyDrive/CS4220_Data')"
      ],
      "metadata": {
        "colab": {
          "base_uri": "https://localhost:8080/"
        },
        "id": "RqnWbjCnY4WH",
        "outputId": "af7aeebc-dba6-4e60-e74b-041ca8edacd4"
      },
      "id": "RqnWbjCnY4WH",
      "execution_count": null,
      "outputs": [
        {
          "output_type": "execute_result",
          "data": {
            "text/plain": [
              "['real1-freebayes.vcf.gz',\n",
              " 'real1-mutect2.vcf.gz',\n",
              " 'real1_truth.bed',\n",
              " 'real1-vardict.vcf.gz',\n",
              " 'real1-varscan.vcf.gz',\n",
              " 'syn1_truth.bed',\n",
              " 'syn1-mutect2.vcf.gz',\n",
              " 'syn1-freebayes.vcf.gz',\n",
              " 'syn1-varscan.vcf.gz',\n",
              " 'syn1-vardict.vcf.gz',\n",
              " 'syn2_truth.bed',\n",
              " 'syn2-freebayes.vcf.gz',\n",
              " 'syn2-mutect2.vcf.gz',\n",
              " 'syn2-vardict.vcf.gz',\n",
              " 'syn2-varscan.vcf.gz',\n",
              " 'syn3_truth.bed',\n",
              " 'syn3-mutect2.vcf.gz',\n",
              " 'syn3-freebayes.vcf.gz',\n",
              " 'syn3-varscan.vcf.gz',\n",
              " 'syn3-vardict.vcf.gz',\n",
              " 'syn4_truth.bed',\n",
              " 'syn4-mutect2.vcf.gz',\n",
              " 'syn4-freebayes.vcf.gz',\n",
              " 'syn4-varscan.vcf.gz',\n",
              " 'syn5_truth.bed',\n",
              " 'syn4-vardict.vcf.gz',\n",
              " 'syn5-mutect2.vcf.gz',\n",
              " 'syn5-freebayes.vcf.gz',\n",
              " 'syn5-vardict.vcf.gz',\n",
              " 'syn5-varscan.vcf.gz',\n",
              " 'real2-mutect2.vcf.gz',\n",
              " 'real2-freebayes.vcf.gz',\n",
              " 'real2_truth.bed',\n",
              " 'real2-varscan.vcf.gz',\n",
              " 'real2-vardict.vcf.gz',\n",
              " 'real3-freebayes.vcf.gz',\n",
              " 'real3-varscan.vcf.gz',\n",
              " 'real3-vardict.vcf.gz',\n",
              " 'real3-mutect2.vcf.gz',\n",
              " 'real3_test.bed',\n",
              " 'data_features.pkl',\n",
              " 'real1-freebayes.csv',\n",
              " 'real1-mutect2.csv',\n",
              " 'real1-varscan.csv']"
            ]
          },
          "metadata": {},
          "execution_count": 3
        }
      ]
    },
    {
      "cell_type": "markdown",
      "id": "d06ad93f-9bc7-4811-85a9-1add9be16f35",
      "metadata": {
        "id": "d06ad93f-9bc7-4811-85a9-1add9be16f35"
      },
      "source": [
        "### 1.2 Config"
      ]
    },
    {
      "cell_type": "code",
      "execution_count": null,
      "id": "adb3590f-1a8e-46ee-9e60-4364682f2bef",
      "metadata": {
        "id": "adb3590f-1a8e-46ee-9e60-4364682f2bef"
      },
      "outputs": [],
      "source": [
        "HOME = 'gdrive/MyDrive/CS4220_Data'"
      ]
    },
    {
      "cell_type": "code",
      "execution_count": null,
      "id": "8aff2689-fd44-4e86-b952-dd54d4df9df8",
      "metadata": {
        "id": "8aff2689-fd44-4e86-b952-dd54d4df9df8"
      },
      "outputs": [],
      "source": [
        "datasets = ['real1', 'real2', 'real3', 'syn1', 'syn2', 'syn3', 'syn4', 'syn5']\n",
        "methods = ['freebayes', 'mutect2', 'varscan', 'vardict']\n",
        "dfs = {}"
      ]
    },
    {
      "cell_type": "markdown",
      "id": "8939723d-4635-47f2-af1a-a97169009187",
      "metadata": {
        "id": "8939723d-4635-47f2-af1a-a97169009187"
      },
      "source": [
        "## 2. Get data from files\n",
        "\n",
        "Skip 2.1 and 2.2 if you already have the pickle file."
      ]
    },
    {
      "cell_type": "markdown",
      "id": "5f7c9f95-7d15-43cd-a6a6-bb5619417ba2",
      "metadata": {
        "id": "5f7c9f95-7d15-43cd-a6a6-bb5619417ba2"
      },
      "source": [
        "### 2.1 Load data to dataframe"
      ]
    },
    {
      "cell_type": "code",
      "source": [
        "combined_df = None\n",
        "for dataset in ['real1']:\n",
        "    truth_df = pd.read_csv(HOME+'/'+dataset+'_truth.bed', delimiter='\\t', header=None, names=['CHROM', 'START_POS', 'END_POS'])\n",
        "    for method in [methods[3]]:\n",
        "        temp_df = allel.vcf_to_dataframe(HOME+'/'+dataset+'-'+method+'.vcf.gz', fields='variants/*')\n",
        "        print(f'Read {method} from {dataset}')\n",
        "        combined_df = temp_df.merge(truth_df[['CHROM', 'START_POS']], how='left', left_on=['CHROM', 'POS'], right_on=['CHROM', 'START_POS'])\n",
        "        combined_df['y_true'] = combined_df['START_POS'].notna().astype(int)\n",
        "        combined_df['FILTER_PASS'] = combined_df['FILTER_PASS'].fillna(-1).astype(int)\n",
        "        print(combined_df.head())"
      ],
      "metadata": {
        "colab": {
          "base_uri": "https://localhost:8080/"
        },
        "id": "LNEeOUewLqAN",
        "outputId": "5c93ea7c-1efb-487c-f8e8-6597fa184281"
      },
      "id": "LNEeOUewLqAN",
      "execution_count": null,
      "outputs": [
        {
          "output_type": "stream",
          "name": "stdout",
          "text": [
            "Read vardict from real1\n",
            "  CHROM    POS           ID     REF ALT_1  ALT_2  ALT_3   QUAL    AF_1  AF_2  \\\n",
            "0     1  10230  rs775928745      AC     A    NaN    NaN  106.0  0.2667   NaN   \n",
            "1     1  10231  rs200279319       C     A    NaN    NaN   75.0  0.1111   NaN   \n",
            "2     1  10250            .  ACCCTA  CCCT    NaN    NaN   42.0  0.0556   NaN   \n",
            "3     1  10583   rs58108140       G     A    NaN    NaN  122.0  0.4231   NaN   \n",
            "4     1  12783   rs62635284       G     A    NaN    NaN  190.0  0.6972   NaN   \n",
            "\n",
            "   ...  FILTER_pSTD  FILTER_q22.5  FILTER_v3 numalt  altlen_1  altlen_2  \\\n",
            "0  ...        False         False      False      1        -1         0   \n",
            "1  ...        False         False      False      1         0         0   \n",
            "2  ...        False          True       True      1        -2         0   \n",
            "3  ...        False         False      False      1         0         0   \n",
            "4  ...        False         False      False      1         0         0   \n",
            "\n",
            "  altlen_3 is_snp  START_POS  y_true  \n",
            "0        0  False        NaN       0  \n",
            "1        0   True        NaN       0  \n",
            "2        0  False        NaN       0  \n",
            "3        0   True        NaN       0  \n",
            "4        0   True        NaN       0  \n",
            "\n",
            "[5 rows x 59 columns]\n"
          ]
        }
      ]
    },
    {
      "cell_type": "code",
      "source": [
        "chroms = [str(x) for x in range(24)] + ['X', 'Y']\n",
        "combined_df = combined_df[combined_df['CHROM'].isin(chroms)]"
      ],
      "metadata": {
        "id": "Ajlc25yMaiYT"
      },
      "id": "Ajlc25yMaiYT",
      "execution_count": null,
      "outputs": []
    },
    {
      "cell_type": "code",
      "source": [
        "combined_df['y_true'].value_counts()"
      ],
      "metadata": {
        "colab": {
          "base_uri": "https://localhost:8080/"
        },
        "id": "hijr1A67P_DU",
        "outputId": "2f0af8b1-f90c-4113-a413-a2c74b781260"
      },
      "id": "hijr1A67P_DU",
      "execution_count": null,
      "outputs": [
        {
          "output_type": "execute_result",
          "data": {
            "text/plain": [
              "0    4747298\n",
              "1       1179\n",
              "Name: y_true, dtype: int64"
            ]
          },
          "metadata": {},
          "execution_count": 9
        }
      ]
    },
    {
      "cell_type": "code",
      "source": [
        "features = combined_df.columns.values.tolist()\n",
        "to_remove = ['CHROM', 'POS', 'ID', 'REF', 'START_POS', 'y_true']\n",
        "total = len(combined_df)\n",
        "for col in features:\n",
        "  nas = combined_df[col].isna().sum()\n",
        "  perc = nas/total\n",
        "  if(perc > 0.1):\n",
        "    to_remove.append(col)\n",
        "print(to_remove)\n",
        "for f in list(set(to_remove)):\n",
        "  features.remove(f)\n",
        "print(features)\n",
        "print(len(features))"
      ],
      "metadata": {
        "colab": {
          "base_uri": "https://localhost:8080/"
        },
        "id": "cgkki168VzCW",
        "outputId": "ce789463-9140-4e26-81d3-760f603fb8be"
      },
      "id": "cgkki168VzCW",
      "execution_count": null,
      "outputs": [
        {
          "output_type": "stream",
          "name": "stdout",
          "text": [
            "['CHROM', 'POS', 'ID', 'REF', 'START_POS', 'y_true', 'ALT_2', 'ALT_3', 'AF_2', 'AF_3', 'LOF', 'NMD', 'START_POS']\n",
            "['ALT_1', 'QUAL', 'AF_1', 'DP', 'END', 'LSEQ', 'MSI', 'MSILEN', 'RSEQ', 'SAMPLE', 'SHIFT3', 'SOMATIC', 'SOR', 'SSF', 'STATUS', 'TYPE', 'VD', 'ANN', 'FILTER_PASS', 'FILTER_Bias', 'FILTER_Cluster0bp', 'FILTER_DIFF0.2', 'FILTER_InDelLikely', 'FILTER_InGap', 'FILTER_InIns', 'FILTER_LongAT', 'FILTER_LowAlleleDepth', 'FILTER_LowFreqQuality', 'FILTER_MAF0.05', 'FILTER_MSI12', 'FILTER_NM4.25', 'FILTER_P0.01Likely', 'FILTER_P0.9', 'FILTER_Q0', 'FILTER_REJECT', 'FILTER_SN1.5', 'FILTER_d5', 'FILTER_f0.1', 'FILTER_p8', 'FILTER_pSTD', 'FILTER_q22.5', 'FILTER_v3', 'numalt', 'altlen_1', 'altlen_2', 'altlen_3', 'is_snp']\n",
            "47\n"
          ]
        }
      ]
    },
    {
      "cell_type": "code",
      "source": [
        "combined_df = combined_df[features + ['y_true']]"
      ],
      "metadata": {
        "id": "5yVKh47Mc3K-"
      },
      "id": "5yVKh47Mc3K-",
      "execution_count": null,
      "outputs": []
    },
    {
      "cell_type": "code",
      "source": [
        "with open(HOME+'/data_features.pkl', 'wb') as fp:\n",
        "    pickle.dump(combined_df, fp, protocol=pickle.HIGHEST_PROTOCOL)"
      ],
      "metadata": {
        "id": "J9H68AlyPCsi"
      },
      "id": "J9H68AlyPCsi",
      "execution_count": null,
      "outputs": []
    },
    {
      "cell_type": "code",
      "source": [
        "p_data = None\n",
        "with open(HOME+'/data_features.pkl', 'rb') as fp:\n",
        "    p_data = pickle.load(fp)"
      ],
      "metadata": {
        "id": "11XMhhKJc7r4"
      },
      "id": "11XMhhKJc7r4",
      "execution_count": null,
      "outputs": []
    },
    {
      "cell_type": "code",
      "source": [
        "#Freebayes\n",
        "# p_data.drop(['ANN', 'ALT_1', 'TYPE_1'], inplace=True, axis=1)\n",
        "\n",
        "#Mutect2\n",
        "# p_data.drop(['ANN', 'ALT_1'], inplace=True, axis=1)\n",
        "\n",
        "#Varscan\n",
        "# p_data.drop(['ANN', 'ALT_1'], inplace=True, axis=1)\n",
        "\n",
        "#Vardict\n",
        "p_data.drop(['ANN', 'ALT_1', 'LSEQ', 'RSEQ', 'SAMPLE', 'STATUS', 'TYPE'], inplace=True, axis=1)\n",
        "m = p_data.loc[p_data['SOR'] != np.inf, 'SOR'].max()\n",
        "p_data['SOR'].replace(np.inf,m,inplace=True)\n",
        "\n",
        "p_data.dropna(inplace = True)"
      ],
      "metadata": {
        "id": "_q39kK_Gfv41"
      },
      "id": "_q39kK_Gfv41",
      "execution_count": null,
      "outputs": []
    },
    {
      "cell_type": "code",
      "source": [
        "X =  p_data.loc[:, (p_data.columns != 'y_true')]\n",
        "y = p_data['y_true']"
      ],
      "metadata": {
        "id": "mvrXNxOPcgyK"
      },
      "id": "mvrXNxOPcgyK",
      "execution_count": null,
      "outputs": []
    },
    {
      "cell_type": "code",
      "source": [
        "X"
      ],
      "metadata": {
        "colab": {
          "base_uri": "https://localhost:8080/",
          "height": 487
        },
        "id": "PbiahN_pfFpR",
        "outputId": "422c337c-292d-4582-ca9b-c02e989381a6"
      },
      "id": "PbiahN_pfFpR",
      "execution_count": null,
      "outputs": [
        {
          "output_type": "execute_result",
          "data": {
            "text/html": [
              "\n",
              "  <div id=\"df-526e6ef3-0883-4596-935d-53855621436a\">\n",
              "    <div class=\"colab-df-container\">\n",
              "      <div>\n",
              "<style scoped>\n",
              "    .dataframe tbody tr th:only-of-type {\n",
              "        vertical-align: middle;\n",
              "    }\n",
              "\n",
              "    .dataframe tbody tr th {\n",
              "        vertical-align: top;\n",
              "    }\n",
              "\n",
              "    .dataframe thead th {\n",
              "        text-align: right;\n",
              "    }\n",
              "</style>\n",
              "<table border=\"1\" class=\"dataframe\">\n",
              "  <thead>\n",
              "    <tr style=\"text-align: right;\">\n",
              "      <th></th>\n",
              "      <th>QUAL</th>\n",
              "      <th>AF_1</th>\n",
              "      <th>DP</th>\n",
              "      <th>END</th>\n",
              "      <th>MSI</th>\n",
              "      <th>MSILEN</th>\n",
              "      <th>SHIFT3</th>\n",
              "      <th>SOMATIC</th>\n",
              "      <th>SOR</th>\n",
              "      <th>SSF</th>\n",
              "      <th>...</th>\n",
              "      <th>FILTER_f0.1</th>\n",
              "      <th>FILTER_p8</th>\n",
              "      <th>FILTER_pSTD</th>\n",
              "      <th>FILTER_q22.5</th>\n",
              "      <th>FILTER_v3</th>\n",
              "      <th>numalt</th>\n",
              "      <th>altlen_1</th>\n",
              "      <th>altlen_2</th>\n",
              "      <th>altlen_3</th>\n",
              "      <th>is_snp</th>\n",
              "    </tr>\n",
              "  </thead>\n",
              "  <tbody>\n",
              "    <tr>\n",
              "      <th>0</th>\n",
              "      <td>106.0</td>\n",
              "      <td>0.2667</td>\n",
              "      <td>45</td>\n",
              "      <td>-1</td>\n",
              "      <td>11.0</td>\n",
              "      <td>6.0</td>\n",
              "      <td>2</td>\n",
              "      <td>False</td>\n",
              "      <td>1.44782</td>\n",
              "      <td>0.33567</td>\n",
              "      <td>...</td>\n",
              "      <td>False</td>\n",
              "      <td>False</td>\n",
              "      <td>False</td>\n",
              "      <td>False</td>\n",
              "      <td>False</td>\n",
              "      <td>1</td>\n",
              "      <td>-1</td>\n",
              "      <td>0</td>\n",
              "      <td>0</td>\n",
              "      <td>False</td>\n",
              "    </tr>\n",
              "    <tr>\n",
              "      <th>1</th>\n",
              "      <td>75.0</td>\n",
              "      <td>0.1111</td>\n",
              "      <td>45</td>\n",
              "      <td>-1</td>\n",
              "      <td>5.0</td>\n",
              "      <td>6.0</td>\n",
              "      <td>2</td>\n",
              "      <td>False</td>\n",
              "      <td>0.96912</td>\n",
              "      <td>0.61733</td>\n",
              "      <td>...</td>\n",
              "      <td>False</td>\n",
              "      <td>False</td>\n",
              "      <td>False</td>\n",
              "      <td>False</td>\n",
              "      <td>False</td>\n",
              "      <td>1</td>\n",
              "      <td>0</td>\n",
              "      <td>0</td>\n",
              "      <td>0</td>\n",
              "      <td>True</td>\n",
              "    </tr>\n",
              "    <tr>\n",
              "      <th>2</th>\n",
              "      <td>42.0</td>\n",
              "      <td>0.0556</td>\n",
              "      <td>36</td>\n",
              "      <td>-1</td>\n",
              "      <td>7.0</td>\n",
              "      <td>6.0</td>\n",
              "      <td>0</td>\n",
              "      <td>False</td>\n",
              "      <td>0.53457</td>\n",
              "      <td>0.41255</td>\n",
              "      <td>...</td>\n",
              "      <td>True</td>\n",
              "      <td>False</td>\n",
              "      <td>False</td>\n",
              "      <td>True</td>\n",
              "      <td>True</td>\n",
              "      <td>1</td>\n",
              "      <td>-2</td>\n",
              "      <td>0</td>\n",
              "      <td>0</td>\n",
              "      <td>False</td>\n",
              "    </tr>\n",
              "    <tr>\n",
              "      <th>3</th>\n",
              "      <td>122.0</td>\n",
              "      <td>0.4231</td>\n",
              "      <td>26</td>\n",
              "      <td>-1</td>\n",
              "      <td>1.0</td>\n",
              "      <td>1.0</td>\n",
              "      <td>0</td>\n",
              "      <td>False</td>\n",
              "      <td>0.84075</td>\n",
              "      <td>0.47730</td>\n",
              "      <td>...</td>\n",
              "      <td>False</td>\n",
              "      <td>False</td>\n",
              "      <td>False</td>\n",
              "      <td>False</td>\n",
              "      <td>False</td>\n",
              "      <td>1</td>\n",
              "      <td>0</td>\n",
              "      <td>0</td>\n",
              "      <td>0</td>\n",
              "      <td>True</td>\n",
              "    </tr>\n",
              "    <tr>\n",
              "      <th>4</th>\n",
              "      <td>190.0</td>\n",
              "      <td>0.6972</td>\n",
              "      <td>142</td>\n",
              "      <td>-1</td>\n",
              "      <td>1.0</td>\n",
              "      <td>1.0</td>\n",
              "      <td>0</td>\n",
              "      <td>False</td>\n",
              "      <td>0.95284</td>\n",
              "      <td>0.48250</td>\n",
              "      <td>...</td>\n",
              "      <td>False</td>\n",
              "      <td>False</td>\n",
              "      <td>False</td>\n",
              "      <td>False</td>\n",
              "      <td>False</td>\n",
              "      <td>1</td>\n",
              "      <td>0</td>\n",
              "      <td>0</td>\n",
              "      <td>0</td>\n",
              "      <td>True</td>\n",
              "    </tr>\n",
              "    <tr>\n",
              "      <th>...</th>\n",
              "      <td>...</td>\n",
              "      <td>...</td>\n",
              "      <td>...</td>\n",
              "      <td>...</td>\n",
              "      <td>...</td>\n",
              "      <td>...</td>\n",
              "      <td>...</td>\n",
              "      <td>...</td>\n",
              "      <td>...</td>\n",
              "      <td>...</td>\n",
              "      <td>...</td>\n",
              "      <td>...</td>\n",
              "      <td>...</td>\n",
              "      <td>...</td>\n",
              "      <td>...</td>\n",
              "      <td>...</td>\n",
              "      <td>...</td>\n",
              "      <td>...</td>\n",
              "      <td>...</td>\n",
              "      <td>...</td>\n",
              "      <td>...</td>\n",
              "    </tr>\n",
              "    <tr>\n",
              "      <th>4748472</th>\n",
              "      <td>221.0</td>\n",
              "      <td>0.5657</td>\n",
              "      <td>99</td>\n",
              "      <td>-1</td>\n",
              "      <td>2.0</td>\n",
              "      <td>2.0</td>\n",
              "      <td>0</td>\n",
              "      <td>False</td>\n",
              "      <td>0.68493</td>\n",
              "      <td>0.10944</td>\n",
              "      <td>...</td>\n",
              "      <td>False</td>\n",
              "      <td>False</td>\n",
              "      <td>False</td>\n",
              "      <td>False</td>\n",
              "      <td>False</td>\n",
              "      <td>1</td>\n",
              "      <td>0</td>\n",
              "      <td>0</td>\n",
              "      <td>0</td>\n",
              "      <td>True</td>\n",
              "    </tr>\n",
              "    <tr>\n",
              "      <th>4748473</th>\n",
              "      <td>191.0</td>\n",
              "      <td>0.5000</td>\n",
              "      <td>36</td>\n",
              "      <td>-1</td>\n",
              "      <td>1.0</td>\n",
              "      <td>1.0</td>\n",
              "      <td>0</td>\n",
              "      <td>False</td>\n",
              "      <td>0.88677</td>\n",
              "      <td>0.46570</td>\n",
              "      <td>...</td>\n",
              "      <td>False</td>\n",
              "      <td>False</td>\n",
              "      <td>False</td>\n",
              "      <td>False</td>\n",
              "      <td>False</td>\n",
              "      <td>1</td>\n",
              "      <td>0</td>\n",
              "      <td>0</td>\n",
              "      <td>0</td>\n",
              "      <td>True</td>\n",
              "    </tr>\n",
              "    <tr>\n",
              "      <th>4748474</th>\n",
              "      <td>147.0</td>\n",
              "      <td>0.2500</td>\n",
              "      <td>32</td>\n",
              "      <td>-1</td>\n",
              "      <td>1.0</td>\n",
              "      <td>1.0</td>\n",
              "      <td>0</td>\n",
              "      <td>False</td>\n",
              "      <td>1.02063</td>\n",
              "      <td>0.57702</td>\n",
              "      <td>...</td>\n",
              "      <td>False</td>\n",
              "      <td>False</td>\n",
              "      <td>False</td>\n",
              "      <td>False</td>\n",
              "      <td>False</td>\n",
              "      <td>1</td>\n",
              "      <td>0</td>\n",
              "      <td>0</td>\n",
              "      <td>0</td>\n",
              "      <td>True</td>\n",
              "    </tr>\n",
              "    <tr>\n",
              "      <th>4748475</th>\n",
              "      <td>165.0</td>\n",
              "      <td>0.3636</td>\n",
              "      <td>22</td>\n",
              "      <td>-1</td>\n",
              "      <td>2.0</td>\n",
              "      <td>1.0</td>\n",
              "      <td>0</td>\n",
              "      <td>False</td>\n",
              "      <td>0.62534</td>\n",
              "      <td>0.26075</td>\n",
              "      <td>...</td>\n",
              "      <td>False</td>\n",
              "      <td>False</td>\n",
              "      <td>False</td>\n",
              "      <td>False</td>\n",
              "      <td>False</td>\n",
              "      <td>1</td>\n",
              "      <td>0</td>\n",
              "      <td>0</td>\n",
              "      <td>0</td>\n",
              "      <td>True</td>\n",
              "    </tr>\n",
              "    <tr>\n",
              "      <th>4748476</th>\n",
              "      <td>59.0</td>\n",
              "      <td>0.1250</td>\n",
              "      <td>8</td>\n",
              "      <td>-1</td>\n",
              "      <td>1.0</td>\n",
              "      <td>1.0</td>\n",
              "      <td>3</td>\n",
              "      <td>False</td>\n",
              "      <td>0.67697</td>\n",
              "      <td>0.61818</td>\n",
              "      <td>...</td>\n",
              "      <td>False</td>\n",
              "      <td>False</td>\n",
              "      <td>True</td>\n",
              "      <td>False</td>\n",
              "      <td>True</td>\n",
              "      <td>1</td>\n",
              "      <td>0</td>\n",
              "      <td>0</td>\n",
              "      <td>0</td>\n",
              "      <td>True</td>\n",
              "    </tr>\n",
              "  </tbody>\n",
              "</table>\n",
              "<p>4748137 rows × 40 columns</p>\n",
              "</div>\n",
              "      <button class=\"colab-df-convert\" onclick=\"convertToInteractive('df-526e6ef3-0883-4596-935d-53855621436a')\"\n",
              "              title=\"Convert this dataframe to an interactive table.\"\n",
              "              style=\"display:none;\">\n",
              "        \n",
              "  <svg xmlns=\"http://www.w3.org/2000/svg\" height=\"24px\"viewBox=\"0 0 24 24\"\n",
              "       width=\"24px\">\n",
              "    <path d=\"M0 0h24v24H0V0z\" fill=\"none\"/>\n",
              "    <path d=\"M18.56 5.44l.94 2.06.94-2.06 2.06-.94-2.06-.94-.94-2.06-.94 2.06-2.06.94zm-11 1L8.5 8.5l.94-2.06 2.06-.94-2.06-.94L8.5 2.5l-.94 2.06-2.06.94zm10 10l.94 2.06.94-2.06 2.06-.94-2.06-.94-.94-2.06-.94 2.06-2.06.94z\"/><path d=\"M17.41 7.96l-1.37-1.37c-.4-.4-.92-.59-1.43-.59-.52 0-1.04.2-1.43.59L10.3 9.45l-7.72 7.72c-.78.78-.78 2.05 0 2.83L4 21.41c.39.39.9.59 1.41.59.51 0 1.02-.2 1.41-.59l7.78-7.78 2.81-2.81c.8-.78.8-2.07 0-2.86zM5.41 20L4 18.59l7.72-7.72 1.47 1.35L5.41 20z\"/>\n",
              "  </svg>\n",
              "      </button>\n",
              "      \n",
              "  <style>\n",
              "    .colab-df-container {\n",
              "      display:flex;\n",
              "      flex-wrap:wrap;\n",
              "      gap: 12px;\n",
              "    }\n",
              "\n",
              "    .colab-df-convert {\n",
              "      background-color: #E8F0FE;\n",
              "      border: none;\n",
              "      border-radius: 50%;\n",
              "      cursor: pointer;\n",
              "      display: none;\n",
              "      fill: #1967D2;\n",
              "      height: 32px;\n",
              "      padding: 0 0 0 0;\n",
              "      width: 32px;\n",
              "    }\n",
              "\n",
              "    .colab-df-convert:hover {\n",
              "      background-color: #E2EBFA;\n",
              "      box-shadow: 0px 1px 2px rgba(60, 64, 67, 0.3), 0px 1px 3px 1px rgba(60, 64, 67, 0.15);\n",
              "      fill: #174EA6;\n",
              "    }\n",
              "\n",
              "    [theme=dark] .colab-df-convert {\n",
              "      background-color: #3B4455;\n",
              "      fill: #D2E3FC;\n",
              "    }\n",
              "\n",
              "    [theme=dark] .colab-df-convert:hover {\n",
              "      background-color: #434B5C;\n",
              "      box-shadow: 0px 1px 3px 1px rgba(0, 0, 0, 0.15);\n",
              "      filter: drop-shadow(0px 1px 2px rgba(0, 0, 0, 0.3));\n",
              "      fill: #FFFFFF;\n",
              "    }\n",
              "  </style>\n",
              "\n",
              "      <script>\n",
              "        const buttonEl =\n",
              "          document.querySelector('#df-526e6ef3-0883-4596-935d-53855621436a button.colab-df-convert');\n",
              "        buttonEl.style.display =\n",
              "          google.colab.kernel.accessAllowed ? 'block' : 'none';\n",
              "\n",
              "        async function convertToInteractive(key) {\n",
              "          const element = document.querySelector('#df-526e6ef3-0883-4596-935d-53855621436a');\n",
              "          const dataTable =\n",
              "            await google.colab.kernel.invokeFunction('convertToInteractive',\n",
              "                                                     [key], {});\n",
              "          if (!dataTable) return;\n",
              "\n",
              "          const docLinkHtml = 'Like what you see? Visit the ' +\n",
              "            '<a target=\"_blank\" href=https://colab.research.google.com/notebooks/data_table.ipynb>data table notebook</a>'\n",
              "            + ' to learn more about interactive tables.';\n",
              "          element.innerHTML = '';\n",
              "          dataTable['output_type'] = 'display_data';\n",
              "          await google.colab.output.renderOutput(dataTable, element);\n",
              "          const docLink = document.createElement('div');\n",
              "          docLink.innerHTML = docLinkHtml;\n",
              "          element.appendChild(docLink);\n",
              "        }\n",
              "      </script>\n",
              "    </div>\n",
              "  </div>\n",
              "  "
            ],
            "text/plain": [
              "          QUAL    AF_1   DP  END   MSI  MSILEN  SHIFT3  SOMATIC      SOR  \\\n",
              "0        106.0  0.2667   45   -1  11.0     6.0       2    False  1.44782   \n",
              "1         75.0  0.1111   45   -1   5.0     6.0       2    False  0.96912   \n",
              "2         42.0  0.0556   36   -1   7.0     6.0       0    False  0.53457   \n",
              "3        122.0  0.4231   26   -1   1.0     1.0       0    False  0.84075   \n",
              "4        190.0  0.6972  142   -1   1.0     1.0       0    False  0.95284   \n",
              "...        ...     ...  ...  ...   ...     ...     ...      ...      ...   \n",
              "4748472  221.0  0.5657   99   -1   2.0     2.0       0    False  0.68493   \n",
              "4748473  191.0  0.5000   36   -1   1.0     1.0       0    False  0.88677   \n",
              "4748474  147.0  0.2500   32   -1   1.0     1.0       0    False  1.02063   \n",
              "4748475  165.0  0.3636   22   -1   2.0     1.0       0    False  0.62534   \n",
              "4748476   59.0  0.1250    8   -1   1.0     1.0       3    False  0.67697   \n",
              "\n",
              "             SSF  ...  FILTER_f0.1  FILTER_p8  FILTER_pSTD  FILTER_q22.5  \\\n",
              "0        0.33567  ...        False      False        False         False   \n",
              "1        0.61733  ...        False      False        False         False   \n",
              "2        0.41255  ...         True      False        False          True   \n",
              "3        0.47730  ...        False      False        False         False   \n",
              "4        0.48250  ...        False      False        False         False   \n",
              "...          ...  ...          ...        ...          ...           ...   \n",
              "4748472  0.10944  ...        False      False        False         False   \n",
              "4748473  0.46570  ...        False      False        False         False   \n",
              "4748474  0.57702  ...        False      False        False         False   \n",
              "4748475  0.26075  ...        False      False        False         False   \n",
              "4748476  0.61818  ...        False      False         True         False   \n",
              "\n",
              "         FILTER_v3  numalt  altlen_1  altlen_2  altlen_3  is_snp  \n",
              "0            False       1        -1         0         0   False  \n",
              "1            False       1         0         0         0    True  \n",
              "2             True       1        -2         0         0   False  \n",
              "3            False       1         0         0         0    True  \n",
              "4            False       1         0         0         0    True  \n",
              "...            ...     ...       ...       ...       ...     ...  \n",
              "4748472      False       1         0         0         0    True  \n",
              "4748473      False       1         0         0         0    True  \n",
              "4748474      False       1         0         0         0    True  \n",
              "4748475      False       1         0         0         0    True  \n",
              "4748476       True       1         0         0         0    True  \n",
              "\n",
              "[4748137 rows x 40 columns]"
            ]
          },
          "metadata": {},
          "execution_count": 35
        }
      ]
    },
    {
      "cell_type": "code",
      "source": [
        "feat_clf = RandomForestClassifier(random_state=42)\n",
        "feat_clf.fit(X, y)\n",
        "importances = pd.DataFrame(data={\n",
        "    'Attribute': X.columns,\n",
        "    'Importance': feat_clf.feature_importances_\n",
        "})\n",
        "importances = importances.sort_values(by='Importance', ascending=False)"
      ],
      "metadata": {
        "id": "RIKaSoWfOgyL"
      },
      "id": "RIKaSoWfOgyL",
      "execution_count": null,
      "outputs": []
    },
    {
      "cell_type": "code",
      "source": [
        "importances.to_csv(HOME+'/real1-vardict.csv')"
      ],
      "metadata": {
        "id": "0se0EAK5oIYO"
      },
      "id": "0se0EAK5oIYO",
      "execution_count": null,
      "outputs": []
    },
    {
      "cell_type": "code",
      "source": [
        "plt.bar(x=importances['Attribute'], height=importances['Importance'], color='#087E8B')\n",
        "plt.title('Feature importances obtained from coefficients', size=20)\n",
        "plt.xticks(rotation='vertical')\n",
        "plt.show()"
      ],
      "metadata": {
        "colab": {
          "base_uri": "https://localhost:8080/",
          "height": 391
        },
        "id": "o_x2sCs1iI7-",
        "outputId": "2938cff2-61c6-4d2b-f610-5835975e0df2"
      },
      "id": "o_x2sCs1iI7-",
      "execution_count": null,
      "outputs": [
        {
          "output_type": "display_data",
          "data": {
            "image/png": "[encoded data removed]",
            "text/plain": [
              "<Figure size 432x288 with 1 Axes>"
            ]
          },
          "metadata": {
            "needs_background": "light"
          }
        }
      ]
    },
    {
      "cell_type": "code",
      "execution_count": null,
      "id": "10876695-e097-48aa-ad4a-2e70f2ea7d95",
      "metadata": {
        "id": "10876695-e097-48aa-ad4a-2e70f2ea7d95"
      },
      "outputs": [],
      "source": [
        "def split_data(X, y):\n",
        "    X_train, X_test, y_train, y_test = train_test_split(X, y, train_size = 0.75, stratify = y)\n",
        "    print(X_train.shape)\n",
        "    print(X_test.shape)\n",
        "    print(y_train.shape)\n",
        "    print(y_test.shape)\n",
        "    print(y_train.value_counts().to_dict())\n",
        "    print(y_test.value_counts().to_dict())\n",
        "    return(X_train, X_test, y_train, y_test)"
      ]
    },
    {
      "cell_type": "code",
      "execution_count": null,
      "id": "a63d2360-4e97-479c-965b-6e57ce377c6b",
      "metadata": {
        "id": "a63d2360-4e97-479c-965b-6e57ce377c6b"
      },
      "outputs": [],
      "source": [
        "clf = RandomForestClassifier(random_state=42)"
      ]
    },
    {
      "cell_type": "code",
      "source": [
        "X_train, X_test, y_train, y_test = split_data(X, y)\n",
        "clf.fit(X_train, y_train.values.ravel())\n",
        "y_pred = clf.predict(X_test)\n",
        "print(precision_score(y_test, y_pred))\n",
        "print(recall_score(y_test, y_pred))\n",
        "print(f1_score(y_test, y_pred))"
      ],
      "metadata": {
        "colab": {
          "base_uri": "https://localhost:8080/"
        },
        "id": "g5A4IyB3laIv",
        "outputId": "e15741d9-5154-47e3-fd4e-560e6b51378a"
      },
      "id": "g5A4IyB3laIv",
      "execution_count": null,
      "outputs": [
        {
          "output_type": "stream",
          "name": "stdout",
          "text": [
            "(3561102, 40)\n",
            "(1187035, 40)\n",
            "(3561102,)\n",
            "(1187035,)\n",
            "{0: 3560218, 1: 884}\n",
            "{0: 1186740, 1: 295}\n",
            "0.7038834951456311\n",
            "0.4915254237288136\n",
            "0.5788423153692616\n"
          ]
        }
      ]
    },
    {
      "cell_type": "code",
      "source": [
        "clf = SVC()"
      ],
      "metadata": {
        "id": "kcxxvetpkg7v"
      },
      "id": "kcxxvetpkg7v",
      "execution_count": null,
      "outputs": []
    },
    {
      "cell_type": "markdown",
      "id": "80c67270-aec1-4d63-8116-2fe852852127",
      "metadata": {
        "id": "80c67270-aec1-4d63-8116-2fe852852127"
      },
      "source": [
        "## Validation"
      ]
    },
    {
      "cell_type": "code",
      "execution_count": null,
      "id": "9fde063a-14de-4200-80d9-953fb8ad2e4c",
      "metadata": {
        "colab": {
          "base_uri": "https://localhost:8080/"
        },
        "id": "9fde063a-14de-4200-80d9-953fb8ad2e4c",
        "outputId": "b4531d42-ddbd-4cdc-e0aa-db3cf534d935"
      },
      "outputs": [
        {
          "output_type": "execute_result",
          "data": {
            "text/plain": [
              "{'real2': {'F1 Score': 0.0, 'Precision': 0.0, 'Recall': 0.0}}"
            ]
          },
          "metadata": {},
          "execution_count": 17
        }
      ],
      "source": [
        "val_results = {}\n",
        "for file in validation_sets:\n",
        "    df = p_data[file]\n",
        "    X_test, y_test = df[features], df[target]\n",
        "    y_pred = clf.predict(X_test)\n",
        "    val_results[file] = {}\n",
        "    val_results[file]['Precision'] = precision_score(y_test, y_pred)\n",
        "    val_results[file]['Recall'] = recall_score(y_test, y_pred)\n",
        "    val_results[file]['F1 Score'] = f1_score(y_test, y_pred)\n",
        "val_results"
      ]
    },
    {
      "cell_type": "markdown",
      "id": "f270d942-dd0d-4930-a267-2e855daccc58",
      "metadata": {
        "id": "f270d942-dd0d-4930-a267-2e855daccc58"
      },
      "source": [
        "## Get Predictions"
      ]
    },
    {
      "cell_type": "code",
      "execution_count": null,
      "id": "e3e94f91-4eb2-4f03-adc9-cc0291b01af7",
      "metadata": {
        "id": "e3e94f91-4eb2-4f03-adc9-cc0291b01af7"
      },
      "outputs": [],
      "source": [
        "for clf in clf_data.keys():\n",
        "  for file in test_sets:\n",
        "      df = p_data[file]\n",
        "      X_test = df[features]\n",
        "      y_pred = clf_data[clf].predict(X_test)\n",
        "      df['y_pred'] = y_pred\n",
        "      res_df = df.copy()\n",
        "      res_df = res_df[res_df['y_pred'] == 1]\n",
        "      res_df.drop(['FILTER_PASS_freebayes', 'FILTER_PASS_mutect2', 'FILTER_PASS_vardict', 'FILTER_PASS_varscan', 'y_pred'], axis=1, inplace = True)\n",
        "      res_df.columns = ['CHROM', 'START_POS']\n",
        "      res_df['END_POS'] = res_df['START_POS']\n",
        "      res_df.to_csv(HOME+'/'+file+'_'+clf+'_test.bed', sep='\\t')"
      ]
    },
    {
      "cell_type": "code",
      "execution_count": null,
      "id": "25d2594c-0824-400d-b61e-731dc3e717c7",
      "metadata": {
        "id": "25d2594c-0824-400d-b61e-731dc3e717c7"
      },
      "outputs": [],
      "source": [
        ""
      ]
    }
  ],
  "metadata": {
    "kernelspec": {
      "display_name": "Python 3 (ipykernel)",
      "language": "python",
      "name": "python3"
    },
    "language_info": {
      "codemirror_mode": {
        "name": "ipython",
        "version": 3
      },
      "file_extension": ".py",
      "mimetype": "text/x-python",
      "name": "python",
      "nbconvert_exporter": "python",
      "pygments_lexer": "ipython3",
      "version": "3.8.10"
    },
    "colab": {
      "name": "Importance.ipynb",
      "provenance": [],
      "collapsed_sections": []
    }
  },
  "nbformat": 4,
  "nbformat_minor": 5
}